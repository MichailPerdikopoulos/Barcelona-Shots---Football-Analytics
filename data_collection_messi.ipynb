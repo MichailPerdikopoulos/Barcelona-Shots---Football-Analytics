{
 "cells": [
  {
   "attachments": {},
   "cell_type": "markdown",
   "metadata": {},
   "source": [
    "# Importing libraries"
   ]
  },
  {
   "cell_type": "code",
   "execution_count": 2,
   "metadata": {},
   "outputs": [],
   "source": [
    "from statsbombpy import sb #pip install statsbombpy\n",
    "\n",
    "import warnings\n",
    "warnings.filterwarnings('ignore') # temporary"
   ]
  },
  {
   "attachments": {},
   "cell_type": "markdown",
   "metadata": {},
   "source": [
    "# Exploring competions"
   ]
  },
  {
   "cell_type": "code",
   "execution_count": 3,
   "metadata": {},
   "outputs": [
    {
     "name": "stderr",
     "output_type": "stream",
     "text": [
      "c:\\Users\\Μιχαήλ\\AppData\\Local\\Programs\\Python\\Python39\\lib\\site-packages\\statsbombpy\\api_client.py:21: NoAuthWarning: credentials were not supplied. open data access only\n",
      "  warnings.warn(\n"
     ]
    },
    {
     "data": {
      "text/html": [
       "<div>\n",
       "<style scoped>\n",
       "    .dataframe tbody tr th:only-of-type {\n",
       "        vertical-align: middle;\n",
       "    }\n",
       "\n",
       "    .dataframe tbody tr th {\n",
       "        vertical-align: top;\n",
       "    }\n",
       "\n",
       "    .dataframe thead th {\n",
       "        text-align: right;\n",
       "    }\n",
       "</style>\n",
       "<table border=\"1\" class=\"dataframe\">\n",
       "  <thead>\n",
       "    <tr style=\"text-align: right;\">\n",
       "      <th></th>\n",
       "      <th>competition_id</th>\n",
       "      <th>season_id</th>\n",
       "      <th>country_name</th>\n",
       "      <th>competition_name</th>\n",
       "      <th>competition_gender</th>\n",
       "      <th>competition_youth</th>\n",
       "      <th>competition_international</th>\n",
       "      <th>season_name</th>\n",
       "      <th>match_updated</th>\n",
       "      <th>match_updated_360</th>\n",
       "      <th>match_available_360</th>\n",
       "      <th>match_available</th>\n",
       "    </tr>\n",
       "  </thead>\n",
       "  <tbody>\n",
       "    <tr>\n",
       "      <th>0</th>\n",
       "      <td>16</td>\n",
       "      <td>4</td>\n",
       "      <td>Europe</td>\n",
       "      <td>Champions League</td>\n",
       "      <td>male</td>\n",
       "      <td>False</td>\n",
       "      <td>False</td>\n",
       "      <td>2018/2019</td>\n",
       "      <td>2022-08-14T16:57:15.866765</td>\n",
       "      <td>2021-06-13T16:17:31.694</td>\n",
       "      <td>None</td>\n",
       "      <td>2022-08-14T16:57:15.866765</td>\n",
       "    </tr>\n",
       "    <tr>\n",
       "      <th>1</th>\n",
       "      <td>16</td>\n",
       "      <td>1</td>\n",
       "      <td>Europe</td>\n",
       "      <td>Champions League</td>\n",
       "      <td>male</td>\n",
       "      <td>False</td>\n",
       "      <td>False</td>\n",
       "      <td>2017/2018</td>\n",
       "      <td>2021-08-27T11:26:39.802832</td>\n",
       "      <td>2021-06-13T16:17:31.694</td>\n",
       "      <td>None</td>\n",
       "      <td>2021-01-23T21:55:30.425330</td>\n",
       "    </tr>\n",
       "    <tr>\n",
       "      <th>2</th>\n",
       "      <td>16</td>\n",
       "      <td>2</td>\n",
       "      <td>Europe</td>\n",
       "      <td>Champions League</td>\n",
       "      <td>male</td>\n",
       "      <td>False</td>\n",
       "      <td>False</td>\n",
       "      <td>2016/2017</td>\n",
       "      <td>2021-08-27T11:26:39.802832</td>\n",
       "      <td>2021-06-13T16:17:31.694</td>\n",
       "      <td>None</td>\n",
       "      <td>2020-07-29T05:00</td>\n",
       "    </tr>\n",
       "    <tr>\n",
       "      <th>3</th>\n",
       "      <td>16</td>\n",
       "      <td>27</td>\n",
       "      <td>Europe</td>\n",
       "      <td>Champions League</td>\n",
       "      <td>male</td>\n",
       "      <td>False</td>\n",
       "      <td>False</td>\n",
       "      <td>2015/2016</td>\n",
       "      <td>2021-08-27T11:26:39.802832</td>\n",
       "      <td>2021-06-13T16:17:31.694</td>\n",
       "      <td>None</td>\n",
       "      <td>2020-07-29T05:00</td>\n",
       "    </tr>\n",
       "    <tr>\n",
       "      <th>4</th>\n",
       "      <td>16</td>\n",
       "      <td>26</td>\n",
       "      <td>Europe</td>\n",
       "      <td>Champions League</td>\n",
       "      <td>male</td>\n",
       "      <td>False</td>\n",
       "      <td>False</td>\n",
       "      <td>2014/2015</td>\n",
       "      <td>2021-08-27T11:26:39.802832</td>\n",
       "      <td>2021-06-13T16:17:31.694</td>\n",
       "      <td>None</td>\n",
       "      <td>2020-07-29T05:00</td>\n",
       "    </tr>\n",
       "  </tbody>\n",
       "</table>\n",
       "</div>"
      ],
      "text/plain": [
       "   competition_id  season_id country_name  competition_name  \\\n",
       "0              16          4       Europe  Champions League   \n",
       "1              16          1       Europe  Champions League   \n",
       "2              16          2       Europe  Champions League   \n",
       "3              16         27       Europe  Champions League   \n",
       "4              16         26       Europe  Champions League   \n",
       "\n",
       "  competition_gender  competition_youth  competition_international  \\\n",
       "0               male              False                      False   \n",
       "1               male              False                      False   \n",
       "2               male              False                      False   \n",
       "3               male              False                      False   \n",
       "4               male              False                      False   \n",
       "\n",
       "  season_name               match_updated        match_updated_360  \\\n",
       "0   2018/2019  2022-08-14T16:57:15.866765  2021-06-13T16:17:31.694   \n",
       "1   2017/2018  2021-08-27T11:26:39.802832  2021-06-13T16:17:31.694   \n",
       "2   2016/2017  2021-08-27T11:26:39.802832  2021-06-13T16:17:31.694   \n",
       "3   2015/2016  2021-08-27T11:26:39.802832  2021-06-13T16:17:31.694   \n",
       "4   2014/2015  2021-08-27T11:26:39.802832  2021-06-13T16:17:31.694   \n",
       "\n",
       "  match_available_360             match_available  \n",
       "0                None  2022-08-14T16:57:15.866765  \n",
       "1                None  2021-01-23T21:55:30.425330  \n",
       "2                None            2020-07-29T05:00  \n",
       "3                None            2020-07-29T05:00  \n",
       "4                None            2020-07-29T05:00  "
      ]
     },
     "execution_count": 3,
     "metadata": {},
     "output_type": "execute_result"
    }
   ],
   "source": [
    "competitions_df = sb.competitions()\n",
    "\n",
    "competitions_df.head()"
   ]
  },
  {
   "cell_type": "code",
   "execution_count": 4,
   "metadata": {},
   "outputs": [
    {
     "name": "stdout",
     "output_type": "stream",
     "text": [
      "Competions dataframe columns:\n",
      "['competition_id', 'season_id', 'country_name', 'competition_name', 'competition_gender', 'competition_youth', 'competition_international', 'season_name', 'match_updated', 'match_updated_360', 'match_available_360', 'match_available']\n",
      "Competitions names:\n",
      "['Champions League' \"FA Women's Super League\" 'FIFA World Cup'\n",
      " 'Indian Super league' 'La Liga' 'NWSL' 'Premier League' 'UEFA Euro'\n",
      " \"UEFA Women's Euro\" \"Women's World Cup\"]\n",
      "\n",
      "La Liga competion_id is 11\n"
     ]
    }
   ],
   "source": [
    "print('Competions dataframe columns:')\n",
    "print(competitions_df.columns.tolist())\n",
    "\n",
    "print('Competitions names:')\n",
    "print(competitions_df.competition_name.unique())\n",
    "\n",
    "# The focus of this project is La Liga, so we need the competion id\n",
    "la_liga_name = 'La Liga'\n",
    "la_liga_id = competitions_df.query(f'competition_name == \"{la_liga_name}\"')['competition_id'].iloc[0]\n",
    "print(f'\\nLa Liga competion_id is {la_liga_id}')\n"
   ]
  },
  {
   "attachments": {},
   "cell_type": "markdown",
   "metadata": {},
   "source": [
    "# La Liga seasons exploring"
   ]
  },
  {
   "cell_type": "code",
   "execution_count": 5,
   "metadata": {},
   "outputs": [
    {
     "name": "stdout",
     "output_type": "stream",
     "text": [
      "\n",
      "La Liga competion_id is: 11\n",
      "Total seasons of La Liga covered from StatsBomb API: 17\n"
     ]
    }
   ],
   "source": [
    "# We need the season_id for each la liga season\n",
    "print(f'\\nLa Liga competion_id is: {la_liga_id}')\n",
    "\n",
    "seasons_id_list = []\n",
    "\n",
    "seasons_id_list = competitions_df.query(f'competition_id == {la_liga_id}').season_id.tolist()\n",
    "\n",
    "print(f'Total seasons of La Liga covered from StatsBomb API: {len(seasons_id_list)}')"
   ]
  },
  {
   "attachments": {},
   "cell_type": "markdown",
   "metadata": {},
   "source": [
    "# Collect match data for all sesons"
   ]
  },
  {
   "cell_type": "code",
   "execution_count": 13,
   "metadata": {},
   "outputs": [
    {
     "name": "stdout",
     "output_type": "stream",
     "text": [
      "Season: 2020/2021, total Messi matches: 35\n",
      "Season: 2019/2020, total Messi matches: 33\n",
      "Season: 2018/2019, total Messi matches: 34\n",
      "Season: 2017/2018, total Messi matches: 36\n",
      "Season: 2016/2017, total Messi matches: 34\n",
      "Season: 2015/2016, total Messi matches: 33\n",
      "Season: 2014/2015, total Messi matches: 38\n",
      "Season: 2013/2014, total Messi matches: 31\n",
      "Season: 2012/2013, total Messi matches: 32\n",
      "Season: 2011/2012, total Messi matches: 37\n",
      "Season: 2010/2011, total Messi matches: 33\n",
      "Season: 2009/2010, total Messi matches: 35\n",
      "Season: 2008/2009, total Messi matches: 31\n",
      "Season: 2007/2008, total Messi matches: 28\n",
      "Season: 2006/2007, total Messi matches: 26\n",
      "Season: 2005/2006, total Messi matches: 17\n",
      "Season: 2004/2005, total Messi matches: 7\n",
      "[68314, 68313, 68316, 68315, 69153, 68352, 68353]\n"
     ]
    }
   ],
   "source": [
    "# For how many matches we have information about?\n",
    "class Season_La_liga():\n",
    "    def __init__(self, id, name, matches_df):\n",
    "        self.id = id\n",
    "        self.name = name\n",
    "        self.matches_df = matches_df\n",
    "\n",
    "        self.matches_id_list = self.matches_df.match_id.tolist()\n",
    "\n",
    "    def inform_season_matches(self):\n",
    "        print(f'Season: {self.name}, total Messi matches: {len(self.matches_df)}')\n",
    "\n",
    "seasons_messi = []\n",
    "\n",
    "for season in seasons_id_list:\n",
    "    matches_info_df = sb.matches(competition_id=la_liga_id, season_id=season)\n",
    "    \n",
    "    total_season_matches = matches_info_df.shape[0]\n",
    "    season_name = matches_info_df.season.iloc[0]\n",
    "\n",
    "    seasons_messi.append(Season_La_liga(season, season_name, matches_info_df))\n",
    "\n",
    "\n",
    "for messi_season in seasons_messi:\n",
    "    messi_season.inform_season_matches()\n",
    "\n"
   ]
  },
  {
   "attachments": {},
   "cell_type": "markdown",
   "metadata": {},
   "source": [
    "# Collecting events data"
   ]
  },
  {
   "cell_type": "code",
   "execution_count": 16,
   "metadata": {},
   "outputs": [
    {
     "data": {
      "text/html": [
       "<div>\n",
       "<style scoped>\n",
       "    .dataframe tbody tr th:only-of-type {\n",
       "        vertical-align: middle;\n",
       "    }\n",
       "\n",
       "    .dataframe tbody tr th {\n",
       "        vertical-align: top;\n",
       "    }\n",
       "\n",
       "    .dataframe thead th {\n",
       "        text-align: right;\n",
       "    }\n",
       "</style>\n",
       "<table border=\"1\" class=\"dataframe\">\n",
       "  <thead>\n",
       "    <tr style=\"text-align: right;\">\n",
       "      <th></th>\n",
       "      <th>competition_id</th>\n",
       "      <th>season_id</th>\n",
       "      <th>country_name</th>\n",
       "      <th>competition_name</th>\n",
       "      <th>competition_gender</th>\n",
       "      <th>competition_youth</th>\n",
       "      <th>competition_international</th>\n",
       "      <th>season_name</th>\n",
       "      <th>match_updated</th>\n",
       "      <th>match_updated_360</th>\n",
       "      <th>match_available_360</th>\n",
       "      <th>match_available</th>\n",
       "    </tr>\n",
       "  </thead>\n",
       "  <tbody>\n",
       "    <tr>\n",
       "      <th>20</th>\n",
       "      <td>11</td>\n",
       "      <td>90</td>\n",
       "      <td>Spain</td>\n",
       "      <td>La Liga</td>\n",
       "      <td>male</td>\n",
       "      <td>False</td>\n",
       "      <td>False</td>\n",
       "      <td>2020/2021</td>\n",
       "      <td>2022-02-11T14:56:09.076</td>\n",
       "      <td>2022-08-16T21:50:36.812060</td>\n",
       "      <td>2022-08-16T21:50:36.812060</td>\n",
       "      <td>2022-02-11T14:56:09.076</td>\n",
       "    </tr>\n",
       "    <tr>\n",
       "      <th>21</th>\n",
       "      <td>11</td>\n",
       "      <td>42</td>\n",
       "      <td>Spain</td>\n",
       "      <td>La Liga</td>\n",
       "      <td>male</td>\n",
       "      <td>False</td>\n",
       "      <td>False</td>\n",
       "      <td>2019/2020</td>\n",
       "      <td>2022-07-15T23:27:24.260122</td>\n",
       "      <td>2021-06-13T16:17:31.694</td>\n",
       "      <td>None</td>\n",
       "      <td>2022-07-15T23:27:24.260122</td>\n",
       "    </tr>\n",
       "    <tr>\n",
       "      <th>22</th>\n",
       "      <td>11</td>\n",
       "      <td>4</td>\n",
       "      <td>Spain</td>\n",
       "      <td>La Liga</td>\n",
       "      <td>male</td>\n",
       "      <td>False</td>\n",
       "      <td>False</td>\n",
       "      <td>2018/2019</td>\n",
       "      <td>2022-08-30T23:25:57.118855</td>\n",
       "      <td>2021-07-09T14:53:22.103024</td>\n",
       "      <td>None</td>\n",
       "      <td>2022-08-30T23:25:57.118855</td>\n",
       "    </tr>\n",
       "    <tr>\n",
       "      <th>23</th>\n",
       "      <td>11</td>\n",
       "      <td>1</td>\n",
       "      <td>Spain</td>\n",
       "      <td>La Liga</td>\n",
       "      <td>male</td>\n",
       "      <td>False</td>\n",
       "      <td>False</td>\n",
       "      <td>2017/2018</td>\n",
       "      <td>2022-08-13T23:18:38.928566</td>\n",
       "      <td>2021-06-13T16:17:31.694</td>\n",
       "      <td>None</td>\n",
       "      <td>2022-08-13T23:18:38.928566</td>\n",
       "    </tr>\n",
       "    <tr>\n",
       "      <th>24</th>\n",
       "      <td>11</td>\n",
       "      <td>2</td>\n",
       "      <td>Spain</td>\n",
       "      <td>La Liga</td>\n",
       "      <td>male</td>\n",
       "      <td>False</td>\n",
       "      <td>False</td>\n",
       "      <td>2016/2017</td>\n",
       "      <td>2022-01-25T22:51:59.353598</td>\n",
       "      <td>2021-06-13T16:17:31.694</td>\n",
       "      <td>None</td>\n",
       "      <td>2022-01-25T22:51:59.353598</td>\n",
       "    </tr>\n",
       "  </tbody>\n",
       "</table>\n",
       "</div>"
      ],
      "text/plain": [
       "    competition_id  season_id country_name competition_name  \\\n",
       "20              11         90        Spain          La Liga   \n",
       "21              11         42        Spain          La Liga   \n",
       "22              11          4        Spain          La Liga   \n",
       "23              11          1        Spain          La Liga   \n",
       "24              11          2        Spain          La Liga   \n",
       "\n",
       "   competition_gender  competition_youth  competition_international  \\\n",
       "20               male              False                      False   \n",
       "21               male              False                      False   \n",
       "22               male              False                      False   \n",
       "23               male              False                      False   \n",
       "24               male              False                      False   \n",
       "\n",
       "   season_name               match_updated           match_updated_360  \\\n",
       "20   2020/2021     2022-02-11T14:56:09.076  2022-08-16T21:50:36.812060   \n",
       "21   2019/2020  2022-07-15T23:27:24.260122     2021-06-13T16:17:31.694   \n",
       "22   2018/2019  2022-08-30T23:25:57.118855  2021-07-09T14:53:22.103024   \n",
       "23   2017/2018  2022-08-13T23:18:38.928566     2021-06-13T16:17:31.694   \n",
       "24   2016/2017  2022-01-25T22:51:59.353598     2021-06-13T16:17:31.694   \n",
       "\n",
       "           match_available_360             match_available  \n",
       "20  2022-08-16T21:50:36.812060     2022-02-11T14:56:09.076  \n",
       "21                        None  2022-07-15T23:27:24.260122  \n",
       "22                        None  2022-08-30T23:25:57.118855  \n",
       "23                        None  2022-08-13T23:18:38.928566  \n",
       "24                        None  2022-01-25T22:51:59.353598  "
      ]
     },
     "execution_count": 16,
     "metadata": {},
     "output_type": "execute_result"
    }
   ],
   "source": [
    "sb.competitions().query('country_name == \"Spain\"').head()"
   ]
  },
  {
   "cell_type": "code",
   "execution_count": 23,
   "metadata": {},
   "outputs": [],
   "source": [
    "first_season_shots = sb.competition_events(\n",
    "    country='Spain',\n",
    "    season='2004/2005',\n",
    "    division='La Liga',\n",
    "    split=True\n",
    ")['shots']"
   ]
  },
  {
   "cell_type": "code",
   "execution_count": 25,
   "metadata": {},
   "outputs": [
    {
     "data": {
      "text/plain": [
       "Index(['id', 'index', 'period', 'timestamp', 'minute', 'second', 'type',\n",
       "       'possession', 'possession_team', 'play_pattern', 'team', 'player',\n",
       "       'position', 'location', 'duration', 'related_events', 'match_id',\n",
       "       'shot_statsbomb_xg', 'shot_end_location', 'shot_key_pass_id',\n",
       "       'shot_technique', 'shot_body_part', 'shot_type', 'shot_outcome',\n",
       "       'shot_first_time', 'shot_freeze_frame', 'possession_team_id',\n",
       "       'player_id', 'shot_one_on_one', 'under_pressure', 'shot_aerial_won',\n",
       "       'out', 'shot_saved_to_post', 'shot_deflected', 'shot_redirect'],\n",
       "      dtype='object')"
      ]
     },
     "execution_count": 25,
     "metadata": {},
     "output_type": "execute_result"
    }
   ],
   "source": [
    "first_season_shots.columns"
   ]
  },
  {
   "cell_type": "code",
   "execution_count": 34,
   "metadata": {},
   "outputs": [
    {
     "data": {
      "text/plain": [
       "player\n",
       "Samuel Eto\"o Fils                       22\n",
       "Ronaldo de Assis Moreira                22\n",
       "Anderson Luís de Souza                  17\n",
       "Xavier Hernández Creus                  10\n",
       "Rafael Márquez Álvarez                  10\n",
       "Andrés Iniesta Luján                    10\n",
       "Giovanni van Bronckhorst                 6\n",
       "Lionel Andrés Messi Cuccittini           6\n",
       "Mark Dennis González Hoffmann            5\n",
       "Raúl García Escudero                     4\n",
       "Juliano Haus Belletti                    4\n",
       "Ludovic Giuly                            4\n",
       "Antonio Pacheco D\"Agosti                 4\n",
       "Mauricio Roberto Pochettino Trossero     2\n",
       "John Aloisi                              2\n",
       "Vladimir Manchev                         2\n",
       "Iván De la Peña López                    2\n",
       "Maximiliano Gastón López                 2\n",
       "Mario Gutiérrez Cotelo                   2\n",
       "Ferrán Corominas Telechea                2\n",
       "Henrik Larsson                           1\n",
       "David López Moreno                       1\n",
       "Antonio Álvarez Pérez                    1\n",
       "Sylvio Mendes Campos Junior              1\n",
       "Diego Camacho Quesada                    1\n",
       "Sérgio Paulo Barbosa Valente             1\n",
       "Thiago Motta                             1\n",
       "Victoriano Rivas Álvaro                  1\n",
       "Raúl Tamudo Montero                      1\n",
       "Miguel Ángel Lozano Ayala                1\n",
       "Felix Dja Ettien Yohou                   1\n",
       "Oleguer Presas Renom                     1\n",
       "Maximiliano Rubén Rodríguez              1\n",
       "Francisco Puñal Martínez                 1\n",
       "Gabriel Fernández Arenas                 1\n",
       "Gaspar Gálvez Burgos                     1\n",
       "José Alejandro Suárez Martín             1\n",
       "Jorge Gonzalez Diaz                      1\n",
       "Jofre González Mateu                     1\n",
       "Óscar Serrano Rodriguez                  1\n",
       "Name: id, dtype: int64"
      ]
     },
     "execution_count": 34,
     "metadata": {},
     "output_type": "execute_result"
    }
   ],
   "source": [
    "first_season_shots.groupby('player')['id'].count().sort_values(ascending=False)"
   ]
  },
  {
   "cell_type": "code",
   "execution_count": 35,
   "metadata": {},
   "outputs": [
    {
     "data": {
      "text/plain": [
       "shot_outcome\n",
       "Off T            65\n",
       "Saved            36\n",
       "Blocked          32\n",
       "Goal             18\n",
       "Post              3\n",
       "Wayward           3\n",
       "Saved to Post     1\n",
       "Name: id, dtype: int64"
      ]
     },
     "execution_count": 35,
     "metadata": {},
     "output_type": "execute_result"
    }
   ],
   "source": [
    "first_season_shots.groupby('shot_outcome')['id'].count().sort_values(ascending=False)"
   ]
  },
  {
   "attachments": {},
   "cell_type": "markdown",
   "metadata": {},
   "source": [
    "# Events example"
   ]
  },
  {
   "cell_type": "code",
   "execution_count": 1,
   "metadata": {},
   "outputs": [
    {
     "ename": "NameError",
     "evalue": "name 'sb' is not defined",
     "output_type": "error",
     "traceback": [
      "\u001b[1;31m---------------------------------------------------------------------------\u001b[0m",
      "\u001b[1;31mNameError\u001b[0m                                 Traceback (most recent call last)",
      "\u001b[1;32mC:\\Users\\B063~1\\AppData\\Local\\Temp/ipykernel_17104/2634159253.py\u001b[0m in \u001b[0;36m<module>\u001b[1;34m\u001b[0m\n\u001b[1;32m----> 1\u001b[1;33m \u001b[0mevents_example_df\u001b[0m \u001b[1;33m=\u001b[0m \u001b[0msb\u001b[0m\u001b[1;33m.\u001b[0m\u001b[0mevents\u001b[0m\u001b[1;33m(\u001b[0m\u001b[0mmatch_id\u001b[0m\u001b[1;33m=\u001b[0m\u001b[1;36m7551\u001b[0m\u001b[1;33m)\u001b[0m\u001b[1;33m\u001b[0m\u001b[1;33m\u001b[0m\u001b[0m\n\u001b[0m\u001b[0;32m      2\u001b[0m \u001b[0mevents_example_df\u001b[0m\u001b[1;33m.\u001b[0m\u001b[0mhead\u001b[0m\u001b[1;33m(\u001b[0m\u001b[1;33m)\u001b[0m\u001b[1;33m\u001b[0m\u001b[1;33m\u001b[0m\u001b[0m\n",
      "\u001b[1;31mNameError\u001b[0m: name 'sb' is not defined"
     ]
    }
   ],
   "source": [
    "events_example_df = sb.events(match_id=7551)\n",
    "events_example_df.head()"
   ]
  },
  {
   "cell_type": "code",
   "execution_count": 16,
   "metadata": {},
   "outputs": [
    {
     "data": {
      "text/plain": [
       "Index(['50_50', 'ball_receipt_outcome', 'ball_recovery_recovery_failure',\n",
       "       'block_deflection', 'block_offensive', 'carry_end_location',\n",
       "       'clearance_aerial_won', 'counterpress', 'dribble_nutmeg',\n",
       "       'dribble_outcome', 'duel_outcome', 'duel_type', 'duration',\n",
       "       'foul_committed_advantage', 'foul_committed_card',\n",
       "       'foul_committed_offensive', 'foul_committed_type', 'foul_won_advantage',\n",
       "       'foul_won_defensive', 'goalkeeper_body_part', 'goalkeeper_end_location',\n",
       "       'goalkeeper_outcome', 'goalkeeper_position', 'goalkeeper_technique',\n",
       "       'goalkeeper_type', 'id', 'index', 'injury_stoppage_in_chain',\n",
       "       'interception_outcome', 'location', 'match_id', 'minute',\n",
       "       'miscontrol_aerial_won', 'pass_aerial_won', 'pass_angle',\n",
       "       'pass_assisted_shot_id', 'pass_backheel', 'pass_body_part',\n",
       "       'pass_cross', 'pass_cut_back', 'pass_deflected', 'pass_end_location',\n",
       "       'pass_goal_assist', 'pass_height', 'pass_length', 'pass_outcome',\n",
       "       'pass_recipient', 'pass_shot_assist', 'pass_switch', 'pass_technique',\n",
       "       'pass_through_ball', 'pass_type', 'period', 'play_pattern', 'player',\n",
       "       'player_id', 'position', 'possession', 'possession_team',\n",
       "       'possession_team_id', 'related_events', 'second', 'shot_aerial_won',\n",
       "       'shot_body_part', 'shot_deflected', 'shot_end_location',\n",
       "       'shot_first_time', 'shot_freeze_frame', 'shot_key_pass_id',\n",
       "       'shot_one_on_one', 'shot_outcome', 'shot_statsbomb_xg',\n",
       "       'shot_technique', 'shot_type', 'substitution_outcome',\n",
       "       'substitution_replacement', 'tactics', 'team', 'timestamp', 'type',\n",
       "       'under_pressure'],\n",
       "      dtype='object')"
      ]
     },
     "execution_count": 16,
     "metadata": {},
     "output_type": "execute_result"
    }
   ],
   "source": [
    "events_example_df.columns"
   ]
  },
  {
   "cell_type": "code",
   "execution_count": 29,
   "metadata": {},
   "outputs": [
    {
     "data": {
      "text/plain": [
       "array([nan, 'Blocked', 'Saved', 'Goal', 'Off T', 'Wayward', 'Post'],\n",
       "      dtype=object)"
      ]
     },
     "execution_count": 29,
     "metadata": {},
     "output_type": "execute_result"
    }
   ],
   "source": [
    "events_example_df.shot_outcome.unique()"
   ]
  }
 ],
 "metadata": {
  "kernelspec": {
   "display_name": "Python 3.9.4 64-bit",
   "language": "python",
   "name": "python3"
  },
  "language_info": {
   "codemirror_mode": {
    "name": "ipython",
    "version": 3
   },
   "file_extension": ".py",
   "mimetype": "text/x-python",
   "name": "python",
   "nbconvert_exporter": "python",
   "pygments_lexer": "ipython3",
   "version": "3.9.4"
  },
  "orig_nbformat": 4,
  "vscode": {
   "interpreter": {
    "hash": "5ff2af1c2d5f89d006a2aaf263ddfb2813a8e71da138a62573a7e2a3fe27a2c9"
   }
  }
 },
 "nbformat": 4,
 "nbformat_minor": 2
}
