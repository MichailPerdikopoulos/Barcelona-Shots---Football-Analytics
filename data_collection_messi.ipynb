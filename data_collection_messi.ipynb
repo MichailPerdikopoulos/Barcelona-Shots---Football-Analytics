{
 "cells": [
  {
   "attachments": {},
   "cell_type": "markdown",
   "metadata": {},
   "source": [
    "# Importing libraries"
   ]
  },
  {
   "cell_type": "code",
   "execution_count": 135,
   "metadata": {},
   "outputs": [],
   "source": [
    "from statsbombpy import sb #pip install statsbombpy\n",
    "import pandas as pd\n",
    "import numpy as np\n",
    "import seaborn as sns\n",
    "import matplotlib.pyplot as plt\n",
    "\n",
    "import warnings\n",
    "warnings.filterwarnings('ignore') # temporary"
   ]
  },
  {
   "attachments": {},
   "cell_type": "markdown",
   "metadata": {},
   "source": [
    "# Exploring competions"
   ]
  },
  {
   "cell_type": "code",
   "execution_count": 2,
   "metadata": {},
   "outputs": [
    {
     "data": {
      "text/html": [
       "<div>\n",
       "<style scoped>\n",
       "    .dataframe tbody tr th:only-of-type {\n",
       "        vertical-align: middle;\n",
       "    }\n",
       "\n",
       "    .dataframe tbody tr th {\n",
       "        vertical-align: top;\n",
       "    }\n",
       "\n",
       "    .dataframe thead th {\n",
       "        text-align: right;\n",
       "    }\n",
       "</style>\n",
       "<table border=\"1\" class=\"dataframe\">\n",
       "  <thead>\n",
       "    <tr style=\"text-align: right;\">\n",
       "      <th></th>\n",
       "      <th>competition_id</th>\n",
       "      <th>season_id</th>\n",
       "      <th>country_name</th>\n",
       "      <th>competition_name</th>\n",
       "      <th>competition_gender</th>\n",
       "      <th>competition_youth</th>\n",
       "      <th>competition_international</th>\n",
       "      <th>season_name</th>\n",
       "      <th>match_updated</th>\n",
       "      <th>match_updated_360</th>\n",
       "      <th>match_available_360</th>\n",
       "      <th>match_available</th>\n",
       "    </tr>\n",
       "  </thead>\n",
       "  <tbody>\n",
       "    <tr>\n",
       "      <th>0</th>\n",
       "      <td>16</td>\n",
       "      <td>4</td>\n",
       "      <td>Europe</td>\n",
       "      <td>Champions League</td>\n",
       "      <td>male</td>\n",
       "      <td>False</td>\n",
       "      <td>False</td>\n",
       "      <td>2018/2019</td>\n",
       "      <td>2022-12-01T11:42:34.874323</td>\n",
       "      <td>2021-06-13T16:17:31.694</td>\n",
       "      <td>None</td>\n",
       "      <td>2022-12-01T11:42:34.874323</td>\n",
       "    </tr>\n",
       "    <tr>\n",
       "      <th>1</th>\n",
       "      <td>16</td>\n",
       "      <td>1</td>\n",
       "      <td>Europe</td>\n",
       "      <td>Champions League</td>\n",
       "      <td>male</td>\n",
       "      <td>False</td>\n",
       "      <td>False</td>\n",
       "      <td>2017/2018</td>\n",
       "      <td>2021-08-27T11:26:39.802832</td>\n",
       "      <td>2021-06-13T16:17:31.694</td>\n",
       "      <td>None</td>\n",
       "      <td>2021-01-23T21:55:30.425330</td>\n",
       "    </tr>\n",
       "    <tr>\n",
       "      <th>2</th>\n",
       "      <td>16</td>\n",
       "      <td>2</td>\n",
       "      <td>Europe</td>\n",
       "      <td>Champions League</td>\n",
       "      <td>male</td>\n",
       "      <td>False</td>\n",
       "      <td>False</td>\n",
       "      <td>2016/2017</td>\n",
       "      <td>2021-08-27T11:26:39.802832</td>\n",
       "      <td>2021-06-13T16:17:31.694</td>\n",
       "      <td>None</td>\n",
       "      <td>2020-07-29T05:00</td>\n",
       "    </tr>\n",
       "    <tr>\n",
       "      <th>3</th>\n",
       "      <td>16</td>\n",
       "      <td>27</td>\n",
       "      <td>Europe</td>\n",
       "      <td>Champions League</td>\n",
       "      <td>male</td>\n",
       "      <td>False</td>\n",
       "      <td>False</td>\n",
       "      <td>2015/2016</td>\n",
       "      <td>2021-08-27T11:26:39.802832</td>\n",
       "      <td>2021-06-13T16:17:31.694</td>\n",
       "      <td>None</td>\n",
       "      <td>2020-07-29T05:00</td>\n",
       "    </tr>\n",
       "    <tr>\n",
       "      <th>4</th>\n",
       "      <td>16</td>\n",
       "      <td>26</td>\n",
       "      <td>Europe</td>\n",
       "      <td>Champions League</td>\n",
       "      <td>male</td>\n",
       "      <td>False</td>\n",
       "      <td>False</td>\n",
       "      <td>2014/2015</td>\n",
       "      <td>2021-08-27T11:26:39.802832</td>\n",
       "      <td>2021-06-13T16:17:31.694</td>\n",
       "      <td>None</td>\n",
       "      <td>2020-07-29T05:00</td>\n",
       "    </tr>\n",
       "  </tbody>\n",
       "</table>\n",
       "</div>"
      ],
      "text/plain": [
       "   competition_id  season_id country_name  competition_name  \\\n",
       "0              16          4       Europe  Champions League   \n",
       "1              16          1       Europe  Champions League   \n",
       "2              16          2       Europe  Champions League   \n",
       "3              16         27       Europe  Champions League   \n",
       "4              16         26       Europe  Champions League   \n",
       "\n",
       "  competition_gender  competition_youth  competition_international  \\\n",
       "0               male              False                      False   \n",
       "1               male              False                      False   \n",
       "2               male              False                      False   \n",
       "3               male              False                      False   \n",
       "4               male              False                      False   \n",
       "\n",
       "  season_name               match_updated        match_updated_360  \\\n",
       "0   2018/2019  2022-12-01T11:42:34.874323  2021-06-13T16:17:31.694   \n",
       "1   2017/2018  2021-08-27T11:26:39.802832  2021-06-13T16:17:31.694   \n",
       "2   2016/2017  2021-08-27T11:26:39.802832  2021-06-13T16:17:31.694   \n",
       "3   2015/2016  2021-08-27T11:26:39.802832  2021-06-13T16:17:31.694   \n",
       "4   2014/2015  2021-08-27T11:26:39.802832  2021-06-13T16:17:31.694   \n",
       "\n",
       "  match_available_360             match_available  \n",
       "0                None  2022-12-01T11:42:34.874323  \n",
       "1                None  2021-01-23T21:55:30.425330  \n",
       "2                None            2020-07-29T05:00  \n",
       "3                None            2020-07-29T05:00  \n",
       "4                None            2020-07-29T05:00  "
      ]
     },
     "execution_count": 2,
     "metadata": {},
     "output_type": "execute_result"
    }
   ],
   "source": [
    "competitions_df = sb.competitions()\n",
    "\n",
    "competitions_df.head()"
   ]
  },
  {
   "cell_type": "code",
   "execution_count": 3,
   "metadata": {},
   "outputs": [
    {
     "name": "stdout",
     "output_type": "stream",
     "text": [
      "Competions dataframe columns:\n",
      "['competition_id', 'season_id', 'country_name', 'competition_name', 'competition_gender', 'competition_youth', 'competition_international', 'season_name', 'match_updated', 'match_updated_360', 'match_available_360', 'match_available']\n",
      "Competitions names:\n",
      "['Champions League' \"FA Women's Super League\" 'FIFA World Cup'\n",
      " 'Indian Super league' 'La Liga' 'NWSL' 'Premier League' 'UEFA Euro'\n",
      " \"UEFA Women's Euro\" \"Women's World Cup\"]\n",
      "\n",
      "La Liga competion_id is 11\n"
     ]
    }
   ],
   "source": [
    "print('Competions dataframe columns:')\n",
    "print(competitions_df.columns.tolist())\n",
    "\n",
    "print('Competitions names:')\n",
    "print(competitions_df.competition_name.unique())\n",
    "\n",
    "# The focus of this project is La Liga, so we need the competion id\n",
    "la_liga_name = 'La Liga'\n",
    "la_liga_id = competitions_df.query(f'competition_name == \"{la_liga_name}\"')['competition_id'].iloc[0]\n",
    "print(f'\\nLa Liga competion_id is {la_liga_id}')\n"
   ]
  },
  {
   "attachments": {},
   "cell_type": "markdown",
   "metadata": {},
   "source": [
    "# La Liga seasons exploring"
   ]
  },
  {
   "cell_type": "code",
   "execution_count": 4,
   "metadata": {},
   "outputs": [
    {
     "name": "stdout",
     "output_type": "stream",
     "text": [
      "\n",
      "La Liga competion_id is: 11\n",
      "Total seasons of La Liga covered from StatsBomb API: 17\n"
     ]
    }
   ],
   "source": [
    "# We need the season_id for each la liga season\n",
    "print(f'\\nLa Liga competion_id is: {la_liga_id}')\n",
    "\n",
    "seasons_id_list = []\n",
    "\n",
    "seasons_id_list = competitions_df.query(f'competition_id == {la_liga_id}').season_id.tolist()\n",
    "\n",
    "print(f'Total seasons of La Liga covered from StatsBomb API: {len(seasons_id_list)}')"
   ]
  },
  {
   "attachments": {},
   "cell_type": "markdown",
   "metadata": {},
   "source": [
    "# Collect match data for all sesons"
   ]
  },
  {
   "cell_type": "code",
   "execution_count": 97,
   "metadata": {},
   "outputs": [
    {
     "name": "stdout",
     "output_type": "stream",
     "text": [
      "['match_id', 'match_date', 'kick_off', 'competition', 'season', 'home_team', 'away_team', 'home_score', 'away_score', 'match_status', 'match_status_360', 'last_updated', 'last_updated_360', 'match_week', 'competition_stage', 'stadium', 'referee', 'home_managers', 'away_managers', 'data_version', 'shot_fidelity_version', 'xy_fidelity_version']\n",
      "2014/2015    38\n",
      "2011/2012    37\n",
      "2017/2018    36\n",
      "2020/2021    35\n",
      "2009/2010    35\n",
      "2018/2019    34\n",
      "2016/2017    34\n",
      "2010/2011    33\n",
      "2015/2016    33\n",
      "2019/2020    33\n",
      "2012/2013    32\n",
      "2013/2014    31\n",
      "2008/2009    31\n",
      "2007/2008    28\n",
      "2006/2007    26\n",
      "2005/2006    17\n",
      "2004/2005     7\n",
      "Name: season, dtype: int64\n"
     ]
    }
   ],
   "source": [
    "# For how many matches we have information about?\n",
    "class Season_La_liga():\n",
    "    def __init__(self, id, name, matches_df):\n",
    "        self.id = id\n",
    "        self.name = name\n",
    "        self.matches_df = matches_df\n",
    "\n",
    "        self.matches_id_list = self.matches_df.match_id.tolist()\n",
    "\n",
    "seasons_messi = []\n",
    "\n",
    "for season in seasons_id_list:\n",
    "    matches_info_df = sb.matches(competition_id=la_liga_id, season_id=season)\n",
    "    \n",
    "    total_season_matches = matches_info_df.shape[0]\n",
    "    season_name = matches_info_df.season.iloc[0]\n",
    "\n",
    "    seasons_messi.append(Season_La_liga(season, season_name, matches_info_df))\n",
    "\n",
    "\n",
    "# Exploring avaliable columns\n",
    "print(seasons_messi[0].matches_df.columns.tolist())\n",
    "\n",
    "match_columns_use = ['match_id','match_date', 'season','home_team', 'away_team', 'home_score', 'away_score', 'match_week']\n",
    "\n",
    "matches_complete_df = pd.DataFrame(columns=match_columns_use)\n",
    "\n",
    "for messi_season in seasons_messi:\n",
    "    matches_complete_df = matches_complete_df.append(messi_season.matches_df.loc[:, match_columns_use])\n",
    "\n",
    "print(matches_complete_df.season.value_counts())"
   ]
  },
  {
   "attachments": {},
   "cell_type": "markdown",
   "metadata": {},
   "source": [
    "# Transforming the match dataframe"
   ]
  },
  {
   "cell_type": "code",
   "execution_count": 116,
   "metadata": {},
   "outputs": [
    {
     "data": {
      "text/html": [
       "<div>\n",
       "<style scoped>\n",
       "    .dataframe tbody tr th:only-of-type {\n",
       "        vertical-align: middle;\n",
       "    }\n",
       "\n",
       "    .dataframe tbody tr th {\n",
       "        vertical-align: top;\n",
       "    }\n",
       "\n",
       "    .dataframe thead th {\n",
       "        text-align: right;\n",
       "    }\n",
       "</style>\n",
       "<table border=\"1\" class=\"dataframe\">\n",
       "  <thead>\n",
       "    <tr style=\"text-align: right;\">\n",
       "      <th></th>\n",
       "      <th>match_id</th>\n",
       "      <th>match_date</th>\n",
       "      <th>competition</th>\n",
       "      <th>season</th>\n",
       "      <th>home_team</th>\n",
       "      <th>away_team</th>\n",
       "      <th>home_score</th>\n",
       "      <th>away_score</th>\n",
       "      <th>match_week</th>\n",
       "    </tr>\n",
       "  </thead>\n",
       "  <tbody>\n",
       "    <tr>\n",
       "      <th>6</th>\n",
       "      <td>68353</td>\n",
       "      <td>2004-10-16</td>\n",
       "      <td>Spain - La Liga</td>\n",
       "      <td>2004/2005</td>\n",
       "      <td>Espanyol</td>\n",
       "      <td>Barcelona</td>\n",
       "      <td>0</td>\n",
       "      <td>1</td>\n",
       "      <td>7</td>\n",
       "    </tr>\n",
       "    <tr>\n",
       "      <th>1</th>\n",
       "      <td>68313</td>\n",
       "      <td>2004-10-24</td>\n",
       "      <td>Spain - La Liga</td>\n",
       "      <td>2004/2005</td>\n",
       "      <td>Barcelona</td>\n",
       "      <td>Osasuna</td>\n",
       "      <td>3</td>\n",
       "      <td>0</td>\n",
       "      <td>8</td>\n",
       "    </tr>\n",
       "    <tr>\n",
       "      <th>0</th>\n",
       "      <td>68314</td>\n",
       "      <td>2004-12-04</td>\n",
       "      <td>Spain - La Liga</td>\n",
       "      <td>2004/2005</td>\n",
       "      <td>Barcelona</td>\n",
       "      <td>Málaga</td>\n",
       "      <td>4</td>\n",
       "      <td>0</td>\n",
       "      <td>14</td>\n",
       "    </tr>\n",
       "    <tr>\n",
       "      <th>4</th>\n",
       "      <td>69153</td>\n",
       "      <td>2004-12-11</td>\n",
       "      <td>Spain - La Liga</td>\n",
       "      <td>2004/2005</td>\n",
       "      <td>Albacete</td>\n",
       "      <td>Barcelona</td>\n",
       "      <td>1</td>\n",
       "      <td>2</td>\n",
       "      <td>15</td>\n",
       "    </tr>\n",
       "    <tr>\n",
       "      <th>3</th>\n",
       "      <td>68315</td>\n",
       "      <td>2004-12-21</td>\n",
       "      <td>Spain - La Liga</td>\n",
       "      <td>2004/2005</td>\n",
       "      <td>Barcelona</td>\n",
       "      <td>Levante</td>\n",
       "      <td>2</td>\n",
       "      <td>1</td>\n",
       "      <td>17</td>\n",
       "    </tr>\n",
       "  </tbody>\n",
       "</table>\n",
       "</div>"
      ],
      "text/plain": [
       "  match_id  match_date      competition     season  home_team  away_team  \\\n",
       "6    68353  2004-10-16  Spain - La Liga  2004/2005   Espanyol  Barcelona   \n",
       "1    68313  2004-10-24  Spain - La Liga  2004/2005  Barcelona    Osasuna   \n",
       "0    68314  2004-12-04  Spain - La Liga  2004/2005  Barcelona     Málaga   \n",
       "4    69153  2004-12-11  Spain - La Liga  2004/2005   Albacete  Barcelona   \n",
       "3    68315  2004-12-21  Spain - La Liga  2004/2005  Barcelona    Levante   \n",
       "\n",
       "  home_score away_score match_week  \n",
       "6          0          1          7  \n",
       "1          3          0          8  \n",
       "0          4          0         14  \n",
       "4          1          2         15  \n",
       "3          2          1         17  "
      ]
     },
     "execution_count": 116,
     "metadata": {},
     "output_type": "execute_result"
    }
   ],
   "source": [
    "matches_complete_df.head()"
   ]
  },
  {
   "cell_type": "code",
   "execution_count": 117,
   "metadata": {},
   "outputs": [
    {
     "data": {
      "text/plain": [
       "home/away  result\n",
       "away       d          57\n",
       "           l          35\n",
       "           w         166\n",
       "home       d          29\n",
       "           l          16\n",
       "           w         217\n",
       "Name: result, dtype: int64"
      ]
     },
     "execution_count": 117,
     "metadata": {},
     "output_type": "execute_result"
    }
   ],
   "source": [
    "def transform_match_dataframe(our_team_name, matches_df):\n",
    "    matches_df['home/away'] = np.where(matches_df['home_team'] == our_team_name, 'home', 'away')\n",
    "\n",
    "    matches_df['opponent'] = np.where(matches_df['home_team'] == our_team_name, matches_df['away_team'], matches_df['home_team'])\n",
    "\n",
    "    matches_df['goals_scored'] = np.where(matches_df['home_team'] == our_team_name, matches_df['home_score'], matches_df['away_score'])\n",
    "\n",
    "    matches_df['goals_conceded'] = np.where(matches_df['home_team'] == our_team_name, matches_df['away_score'], matches_df['home_score'])\n",
    "\n",
    "    result_conditions = [\n",
    "    (matches_df['goals_scored'] > matches_df['goals_conceded']),\n",
    "    (matches_df['goals_scored'] == matches_df['goals_conceded']),\n",
    "    (matches_df['goals_scored'] < matches_df['goals_conceded'])\n",
    "]\n",
    "\n",
    "    result_values = ['w', 'd', 'l']\n",
    "\n",
    "    matches_df['result'] = np.select(result_conditions, result_values)\n",
    "\n",
    "    matches_df = matches_df.drop(['home_team', 'away_team', 'home_score', 'away_score'], axis=1)\n",
    "\n",
    "    matches_df = matches_df.sort_values(by=['match_date'])\n",
    "    return matches_df\n",
    "\n",
    "matches_df = transform_match_dataframe('Barcelona', matches_complete_df.copy())\n",
    "\n",
    "# matches_df.groupby(['home/away', 'result'])['result'].count()"
   ]
  },
  {
   "attachments": {},
   "cell_type": "markdown",
   "metadata": {},
   "source": [
    "## Exploring match dataframe"
   ]
  },
  {
   "cell_type": "code",
   "execution_count": 181,
   "metadata": {},
   "outputs": [
    {
     "data": {
      "image/png": "[encoded data removed]",
      "text/plain": [
       "<Figure size 432x288 with 1 Axes>"
      ]
     },
     "metadata": {
      "needs_background": "light"
     },
     "output_type": "display_data"
    }
   ],
   "source": [
    "season_match_df = matches_df.groupby('season')[['match_id']].count().reset_index()\n",
    "\n",
    "ax = sns.barplot(data=season_match_df, x='season', y='match_id', color='steelblue')\n",
    "\n",
    "plt.xticks(rotation=90);\n",
    "plt.yticks([])\n",
    "ax.set_ylabel('Available matches per season')\n",
    "plt.title('Messi matches available in La Liga (2004/2005 to 2020/2021)')\n",
    "ax.bar_label(ax.containers[0]);"
   ]
  },
  {
   "cell_type": "code",
   "execution_count": 202,
   "metadata": {},
   "outputs": [
    {
     "data": {
      "image/png": "[encoded data removed]",
      "text/plain": [
       "<Figure size 432x288 with 1 Axes>"
      ]
     },
     "metadata": {
      "needs_background": "light"
     },
     "output_type": "display_data"
    }
   ],
   "source": [
    "home_away_matches_df = matches_df.groupby(['home/away', 'result'])['match_id'].count().reset_index()\n",
    "\n",
    "ax = sns.barplot(data=home_away_matches_df, x='home/away', y='match_id', hue='result', order=['home', 'away'], hue_order=['w', 'd', 'l'], palette=['green', 'blue', 'red'])\n",
    "ax.set_ylabel('Available matches')\n",
    "for i in range(3):\n",
    "    ax.bar_label(ax.containers[i]);\n"
   ]
  },
  {
   "cell_type": "code",
   "execution_count": null,
   "metadata": {},
   "outputs": [],
   "source": []
  },
  {
   "cell_type": "code",
   "execution_count": null,
   "metadata": {},
   "outputs": [],
   "source": []
  },
  {
   "cell_type": "code",
   "execution_count": null,
   "metadata": {},
   "outputs": [],
   "source": []
  },
  {
   "attachments": {},
   "cell_type": "markdown",
   "metadata": {},
   "source": [
    "# Checking if get the correct match result from shots"
   ]
  },
  {
   "cell_type": "code",
   "execution_count": null,
   "metadata": {},
   "outputs": [],
   "source": [
    "class Score_Match():\n",
    "    def __init__(self, home_team_name, id, home_score, away_team_name, away_score):\n",
    "        self.id = id\n",
    "        self.home_team_name = home_team_name\n",
    "        self.home_score = home_score\n",
    "        self.away_team_name = away_team_name\n",
    "        self.away_score = away_score\n",
    "    \n",
    "    def inform_user(self):\n",
    "        print(f'{self.home_team_name} - {self.away_team_name} : {self.home_score} - {self.away_score}')\n",
    "\n",
    "def match_score_from_matches_df(match_id_search, matches_df):\n",
    "    cur_match_df = matches_df.query(f'match_id == {match_id_search}')\n",
    "\n",
    "    if len(cur_match_df) == 0:\n",
    "        print(f'Could not find the match with id: {match_id_search}')\n",
    "        return\n",
    "    \n",
    "    score_obj = Score_Match(\n",
    "        id= match_id_search,\n",
    "        home_team_name= cur_match_df.home_team.iloc[0],\n",
    "        home_score=cur_match_df.home_score.iloc[0],\n",
    "        away_team_name=cur_match_df.away_team.iloc[0],\n",
    "        away_score=cur_match_df.away_score.iloc[0]\n",
    "    )\n",
    "\n",
    "    return score_obj\n",
    "\n",
    "def confirm_match_score_from_even_df(score_obj:Score_Match, events_df):\n",
    "    goals_df = events_df.query(f'match_id == {score_obj.id} and shot_outcome == \"Goal\"')\n",
    "\n",
    "    home_goal_events = len(goals_df.query(f'possession_team == \"{score_obj.home_team_name}\"'))\n",
    "    away_goal_events = len(goals_df.query(f'possession_team == \"{score_obj.away_team_name}\"'))\n",
    "\n",
    "    if home_goal_events != score_obj.home_score:\n",
    "        return False\n",
    "        \n",
    "    if away_goal_events != score_obj.away_score:\n",
    "        return False\n",
    "\n",
    "    return True"
   ]
  },
  {
   "cell_type": "code",
   "execution_count": 63,
   "metadata": {},
   "outputs": [
    {
     "name": "stdout",
     "output_type": "stream",
     "text": [
      "Season: 2020/2021\n",
      "Real Betis - Barcelona : 2 - 3\n",
      "Barcelona - Villarreal : 4 - 0\n",
      "Celta Vigo - Barcelona : 0 - 3\n",
      "Deportivo Alavés - Barcelona : 1 - 1\n",
      "Barcelona - Getafe : 5 - 2\n",
      "Cádiz - Barcelona : 2 - 1\n",
      "Barcelona - Deportivo Alavés : 5 - 1\n",
      "Barcelona - Athletic Club : 2 - 1\n",
      "Villarreal - Barcelona : 1 - 2\n",
      "Total problematic scores in season: 9\n",
      "Season: 2019/2020\n"
     ]
    },
    {
     "ename": "KeyboardInterrupt",
     "evalue": "",
     "output_type": "error",
     "traceback": [
      "\u001b[1;31m---------------------------------------------------------------------------\u001b[0m",
      "\u001b[1;31mKeyboardInterrupt\u001b[0m                         Traceback (most recent call last)",
      "\u001b[1;32mC:\\Users\\B063~1\\AppData\\Local\\Temp/ipykernel_14848/145006202.py\u001b[0m in \u001b[0;36m<module>\u001b[1;34m\u001b[0m\n\u001b[0;32m      2\u001b[0m     \u001b[0mprint\u001b[0m\u001b[1;33m(\u001b[0m\u001b[1;34mf'Season: {season_unique.name}'\u001b[0m\u001b[1;33m)\u001b[0m\u001b[1;33m\u001b[0m\u001b[1;33m\u001b[0m\u001b[0m\n\u001b[0;32m      3\u001b[0m     \u001b[0mproblematic_match_scores\u001b[0m \u001b[1;33m=\u001b[0m \u001b[1;36m0\u001b[0m\u001b[1;33m\u001b[0m\u001b[1;33m\u001b[0m\u001b[0m\n\u001b[1;32m----> 4\u001b[1;33m     shots_season_df = sb.competition_events(\n\u001b[0m\u001b[0;32m      5\u001b[0m         \u001b[0mcountry\u001b[0m\u001b[1;33m=\u001b[0m\u001b[1;34m'Spain'\u001b[0m\u001b[1;33m,\u001b[0m\u001b[1;33m\u001b[0m\u001b[1;33m\u001b[0m\u001b[0m\n\u001b[0;32m      6\u001b[0m         \u001b[0mseason\u001b[0m\u001b[1;33m=\u001b[0m\u001b[0mseason_unique\u001b[0m\u001b[1;33m.\u001b[0m\u001b[0mname\u001b[0m\u001b[1;33m,\u001b[0m\u001b[1;33m\u001b[0m\u001b[1;33m\u001b[0m\u001b[0m\n",
      "\u001b[1;32mc:\\Users\\Μιχαήλ\\AppData\\Local\\Programs\\Python\\Python39\\lib\\site-packages\\statsbombpy\\sb.py\u001b[0m in \u001b[0;36mcompetition_events\u001b[1;34m(country, division, season, gender, split, filters, fmt, creds, include_360_metrics)\u001b[0m\n\u001b[0;32m    152\u001b[0m         )\n\u001b[0;32m    153\u001b[0m \u001b[1;33m\u001b[0m\u001b[0m\n\u001b[1;32m--> 154\u001b[1;33m     \u001b[0mcompetition_events\u001b[0m \u001b[1;33m=\u001b[0m \u001b[0mreduce_events\u001b[0m\u001b[1;33m(\u001b[0m\u001b[0mmatches_events\u001b[0m\u001b[1;33m,\u001b[0m \u001b[0mfmt\u001b[0m\u001b[1;33m)\u001b[0m\u001b[1;33m\u001b[0m\u001b[1;33m\u001b[0m\u001b[0m\n\u001b[0m\u001b[0;32m    155\u001b[0m     \u001b[1;32mif\u001b[0m \u001b[0mfmt\u001b[0m \u001b[1;33m==\u001b[0m \u001b[1;34m\"dataframe\"\u001b[0m \u001b[1;32mand\u001b[0m \u001b[0msplit\u001b[0m \u001b[1;32mis\u001b[0m \u001b[1;32mFalse\u001b[0m\u001b[1;33m:\u001b[0m\u001b[1;33m\u001b[0m\u001b[1;33m\u001b[0m\u001b[0m\n\u001b[0;32m    156\u001b[0m         competition_events = pd.concat(\n",
      "\u001b[1;32mc:\\Users\\Μιχαήλ\\AppData\\Local\\Programs\\Python\\Python39\\lib\\site-packages\\statsbombpy\\helpers.py\u001b[0m in \u001b[0;36mreduce_events\u001b[1;34m(all_events, fmt)\u001b[0m\n\u001b[0;32m     41\u001b[0m \u001b[1;32mdef\u001b[0m \u001b[0mreduce_events\u001b[0m\u001b[1;33m(\u001b[0m\u001b[0mall_events\u001b[0m\u001b[1;33m:\u001b[0m \u001b[0mdict\u001b[0m\u001b[1;33m,\u001b[0m \u001b[0mfmt\u001b[0m\u001b[1;33m:\u001b[0m \u001b[0mstr\u001b[0m\u001b[1;33m)\u001b[0m \u001b[1;33m->\u001b[0m \u001b[0mdict\u001b[0m\u001b[1;33m:\u001b[0m\u001b[1;33m\u001b[0m\u001b[1;33m\u001b[0m\u001b[0m\n\u001b[0;32m     42\u001b[0m     \u001b[0mreduced_events\u001b[0m\u001b[1;33m:\u001b[0m \u001b[0mdict\u001b[0m \u001b[1;33m=\u001b[0m \u001b[0mdefaultdict\u001b[0m\u001b[1;33m(\u001b[0m\u001b[0mlist\u001b[0m\u001b[1;33m)\u001b[0m\u001b[1;33m\u001b[0m\u001b[1;33m\u001b[0m\u001b[0m\n\u001b[1;32m---> 43\u001b[1;33m     \u001b[1;32mfor\u001b[0m \u001b[0mevents\u001b[0m \u001b[1;32min\u001b[0m \u001b[0mall_events\u001b[0m\u001b[1;33m:\u001b[0m\u001b[1;33m\u001b[0m\u001b[1;33m\u001b[0m\u001b[0m\n\u001b[0m\u001b[0;32m     44\u001b[0m         \u001b[1;32mfor\u001b[0m \u001b[0mev_type\u001b[0m\u001b[1;33m,\u001b[0m \u001b[0mevs\u001b[0m \u001b[1;32min\u001b[0m \u001b[0mevents\u001b[0m\u001b[1;33m.\u001b[0m\u001b[0mitems\u001b[0m\u001b[1;33m(\u001b[0m\u001b[1;33m)\u001b[0m\u001b[1;33m:\u001b[0m\u001b[1;33m\u001b[0m\u001b[1;33m\u001b[0m\u001b[0m\n\u001b[0;32m     45\u001b[0m             \u001b[0mreduced_events\u001b[0m\u001b[1;33m[\u001b[0m\u001b[0mev_type\u001b[0m\u001b[1;33m]\u001b[0m \u001b[1;33m=\u001b[0m \u001b[0mreduced_events\u001b[0m\u001b[1;33m.\u001b[0m\u001b[0mget\u001b[0m\u001b[1;33m(\u001b[0m\u001b[0mev_type\u001b[0m\u001b[1;33m,\u001b[0m \u001b[1;33m[\u001b[0m\u001b[1;33m]\u001b[0m\u001b[1;33m)\u001b[0m \u001b[1;33m+\u001b[0m \u001b[0mevs\u001b[0m\u001b[1;33m\u001b[0m\u001b[1;33m\u001b[0m\u001b[0m\n",
      "\u001b[1;32mc:\\Users\\Μιχαήλ\\AppData\\Local\\Programs\\Python\\Python39\\lib\\site-packages\\statsbombpy\\sb.py\u001b[0m in \u001b[0;36m<lambda>\u001b[1;34m(events)\u001b[0m\n\u001b[0;32m    146\u001b[0m         )\n\u001b[0;32m    147\u001b[0m         matches_events = map(\n\u001b[1;32m--> 148\u001b[1;33m             lambda events: filter_and_group_events(\n\u001b[0m\u001b[0;32m    149\u001b[0m                 \u001b[0mevents\u001b[0m\u001b[1;33m,\u001b[0m \u001b[0mfilters\u001b[0m\u001b[1;33m,\u001b[0m \u001b[0mfmt\u001b[0m\u001b[1;33m,\u001b[0m \u001b[0mfmt\u001b[0m \u001b[1;33m==\u001b[0m \u001b[1;34m\"dataframe\"\u001b[0m\u001b[1;33m\u001b[0m\u001b[1;33m\u001b[0m\u001b[0m\n\u001b[0;32m    150\u001b[0m             ),\n",
      "\u001b[1;32mc:\\Users\\Μιχαήλ\\AppData\\Local\\Programs\\Python\\Python39\\lib\\site-packages\\statsbombpy\\helpers.py\u001b[0m in \u001b[0;36mfilter_and_group_events\u001b[1;34m(events, filters, fmt, flatten_attrs)\u001b[0m\n\u001b[0;32m     26\u001b[0m     \u001b[0mevents_\u001b[0m \u001b[1;33m=\u001b[0m \u001b[0mdefaultdict\u001b[0m\u001b[1;33m(\u001b[0m\u001b[0mlist\u001b[0m\u001b[1;33m)\u001b[0m\u001b[1;33m\u001b[0m\u001b[1;33m\u001b[0m\u001b[0m\n\u001b[0;32m     27\u001b[0m     \u001b[1;32mfor\u001b[0m \u001b[0mev\u001b[0m \u001b[1;32min\u001b[0m \u001b[0mevents\u001b[0m\u001b[1;33m.\u001b[0m\u001b[0mvalues\u001b[0m\u001b[1;33m(\u001b[0m\u001b[1;33m)\u001b[0m\u001b[1;33m:\u001b[0m\u001b[1;33m\u001b[0m\u001b[1;33m\u001b[0m\u001b[0m\n\u001b[1;32m---> 28\u001b[1;33m         \u001b[0mev_type\u001b[0m \u001b[1;33m=\u001b[0m \u001b[0mpluralize\u001b[0m\u001b[1;33m(\u001b[0m\u001b[0mev\u001b[0m\u001b[1;33m[\u001b[0m\u001b[1;34m\"type\"\u001b[0m\u001b[1;33m]\u001b[0m\u001b[1;33m[\u001b[0m\u001b[1;34m\"name\"\u001b[0m\u001b[1;33m]\u001b[0m\u001b[1;33m)\u001b[0m\u001b[1;33m\u001b[0m\u001b[1;33m\u001b[0m\u001b[0m\n\u001b[0m\u001b[0;32m     29\u001b[0m         \u001b[1;32mif\u001b[0m \u001b[1;32mnot\u001b[0m \u001b[0mis_relevant\u001b[0m\u001b[1;33m(\u001b[0m\u001b[0mev\u001b[0m\u001b[1;33m,\u001b[0m \u001b[0mfilters\u001b[0m\u001b[1;33m)\u001b[0m\u001b[1;33m:\u001b[0m\u001b[1;33m\u001b[0m\u001b[1;33m\u001b[0m\u001b[0m\n\u001b[0;32m     30\u001b[0m             \u001b[1;32mcontinue\u001b[0m\u001b[1;33m\u001b[0m\u001b[1;33m\u001b[0m\u001b[0m\n",
      "\u001b[1;32mc:\\Users\\Μιχαήλ\\AppData\\Local\\Programs\\Python\\Python39\\lib\\site-packages\\joblib\\memory.py\u001b[0m in \u001b[0;36m__call__\u001b[1;34m(self, *args, **kwargs)\u001b[0m\n\u001b[0;32m    592\u001b[0m \u001b[1;33m\u001b[0m\u001b[0m\n\u001b[0;32m    593\u001b[0m     \u001b[1;32mdef\u001b[0m \u001b[0m__call__\u001b[0m\u001b[1;33m(\u001b[0m\u001b[0mself\u001b[0m\u001b[1;33m,\u001b[0m \u001b[1;33m*\u001b[0m\u001b[0margs\u001b[0m\u001b[1;33m,\u001b[0m \u001b[1;33m**\u001b[0m\u001b[0mkwargs\u001b[0m\u001b[1;33m)\u001b[0m\u001b[1;33m:\u001b[0m\u001b[1;33m\u001b[0m\u001b[1;33m\u001b[0m\u001b[0m\n\u001b[1;32m--> 594\u001b[1;33m         \u001b[1;32mreturn\u001b[0m \u001b[0mself\u001b[0m\u001b[1;33m.\u001b[0m\u001b[0m_cached_call\u001b[0m\u001b[1;33m(\u001b[0m\u001b[0margs\u001b[0m\u001b[1;33m,\u001b[0m \u001b[0mkwargs\u001b[0m\u001b[1;33m)\u001b[0m\u001b[1;33m[\u001b[0m\u001b[1;36m0\u001b[0m\u001b[1;33m]\u001b[0m\u001b[1;33m\u001b[0m\u001b[1;33m\u001b[0m\u001b[0m\n\u001b[0m\u001b[0;32m    595\u001b[0m \u001b[1;33m\u001b[0m\u001b[0m\n\u001b[0;32m    596\u001b[0m     \u001b[1;32mdef\u001b[0m \u001b[0m__getstate__\u001b[0m\u001b[1;33m(\u001b[0m\u001b[0mself\u001b[0m\u001b[1;33m)\u001b[0m\u001b[1;33m:\u001b[0m\u001b[1;33m\u001b[0m\u001b[1;33m\u001b[0m\u001b[0m\n",
      "\u001b[1;32mc:\\Users\\Μιχαήλ\\AppData\\Local\\Programs\\Python\\Python39\\lib\\site-packages\\joblib\\memory.py\u001b[0m in \u001b[0;36m_cached_call\u001b[1;34m(self, args, kwargs, shelving)\u001b[0m\n\u001b[0;32m    494\u001b[0m         \u001b[1;31m# Compare the function code with the previous to see if the\u001b[0m\u001b[1;33m\u001b[0m\u001b[1;33m\u001b[0m\u001b[1;33m\u001b[0m\u001b[0m\n\u001b[0;32m    495\u001b[0m         \u001b[1;31m# function code has changed\u001b[0m\u001b[1;33m\u001b[0m\u001b[1;33m\u001b[0m\u001b[1;33m\u001b[0m\u001b[0m\n\u001b[1;32m--> 496\u001b[1;33m         if not (self._check_previous_func_code(stacklevel=4) and\n\u001b[0m\u001b[0;32m    497\u001b[0m                 self.store_backend.contains_item([func_id, args_id])):\n\u001b[0;32m    498\u001b[0m             \u001b[1;32mif\u001b[0m \u001b[0mself\u001b[0m\u001b[1;33m.\u001b[0m\u001b[0m_verbose\u001b[0m \u001b[1;33m>\u001b[0m \u001b[1;36m10\u001b[0m\u001b[1;33m:\u001b[0m\u001b[1;33m\u001b[0m\u001b[1;33m\u001b[0m\u001b[0m\n",
      "\u001b[1;32mc:\\Users\\Μιχαήλ\\AppData\\Local\\Programs\\Python\\Python39\\lib\\site-packages\\joblib\\memory.py\u001b[0m in \u001b[0;36m_check_previous_func_code\u001b[1;34m(self, stacklevel)\u001b[0m\n\u001b[0;32m    700\u001b[0m             \u001b[0mold_func_code\u001b[0m\u001b[1;33m,\u001b[0m \u001b[0mold_first_line\u001b[0m \u001b[1;33m=\u001b[0m\u001b[0;31m\\\u001b[0m\u001b[1;33m\u001b[0m\u001b[1;33m\u001b[0m\u001b[0m\n\u001b[0;32m    701\u001b[0m                 extract_first_line(\n\u001b[1;32m--> 702\u001b[1;33m                     self.store_backend.get_cached_func_code([func_id]))\n\u001b[0m\u001b[0;32m    703\u001b[0m         \u001b[1;32mexcept\u001b[0m \u001b[1;33m(\u001b[0m\u001b[0mIOError\u001b[0m\u001b[1;33m,\u001b[0m \u001b[0mOSError\u001b[0m\u001b[1;33m)\u001b[0m\u001b[1;33m:\u001b[0m  \u001b[1;31m# some backend can also raise OSError\u001b[0m\u001b[1;33m\u001b[0m\u001b[1;33m\u001b[0m\u001b[0m\n\u001b[0;32m    704\u001b[0m             \u001b[0mself\u001b[0m\u001b[1;33m.\u001b[0m\u001b[0m_write_func_code\u001b[0m\u001b[1;33m(\u001b[0m\u001b[0mfunc_code\u001b[0m\u001b[1;33m,\u001b[0m \u001b[0mfirst_line\u001b[0m\u001b[1;33m)\u001b[0m\u001b[1;33m\u001b[0m\u001b[1;33m\u001b[0m\u001b[0m\n",
      "\u001b[1;32mc:\\Users\\Μιχαήλ\\AppData\\Local\\Programs\\Python\\Python39\\lib\\site-packages\\joblib\\_store_backends.py\u001b[0m in \u001b[0;36mget_cached_func_code\u001b[1;34m(self, path)\u001b[0m\n\u001b[0;32m    265\u001b[0m         \u001b[1;32mtry\u001b[0m\u001b[1;33m:\u001b[0m\u001b[1;33m\u001b[0m\u001b[1;33m\u001b[0m\u001b[0m\n\u001b[0;32m    266\u001b[0m             \u001b[1;32mwith\u001b[0m \u001b[0mself\u001b[0m\u001b[1;33m.\u001b[0m\u001b[0m_open_item\u001b[0m\u001b[1;33m(\u001b[0m\u001b[0mfilename\u001b[0m\u001b[1;33m,\u001b[0m \u001b[1;34m'rb'\u001b[0m\u001b[1;33m)\u001b[0m \u001b[1;32mas\u001b[0m \u001b[0mf\u001b[0m\u001b[1;33m:\u001b[0m\u001b[1;33m\u001b[0m\u001b[1;33m\u001b[0m\u001b[0m\n\u001b[1;32m--> 267\u001b[1;33m                 \u001b[1;32mreturn\u001b[0m \u001b[0mf\u001b[0m\u001b[1;33m.\u001b[0m\u001b[0mread\u001b[0m\u001b[1;33m(\u001b[0m\u001b[1;33m)\u001b[0m\u001b[1;33m.\u001b[0m\u001b[0mdecode\u001b[0m\u001b[1;33m(\u001b[0m\u001b[1;34m'utf-8'\u001b[0m\u001b[1;33m)\u001b[0m\u001b[1;33m\u001b[0m\u001b[1;33m\u001b[0m\u001b[0m\n\u001b[0m\u001b[0;32m    268\u001b[0m         \u001b[1;32mexcept\u001b[0m\u001b[1;33m:\u001b[0m  \u001b[1;31m# noqa: E722\u001b[0m\u001b[1;33m\u001b[0m\u001b[1;33m\u001b[0m\u001b[0m\n\u001b[0;32m    269\u001b[0m             \u001b[1;32mraise\u001b[0m\u001b[1;33m\u001b[0m\u001b[1;33m\u001b[0m\u001b[0m\n",
      "\u001b[1;31mKeyboardInterrupt\u001b[0m: "
     ]
    }
   ],
   "source": [
    "for season_unique in seasons_messi:\n",
    "    print(f'Season: {season_unique.name}')\n",
    "    problematic_match_scores = 0\n",
    "    shots_season_df = sb.competition_events(\n",
    "        country='Spain',\n",
    "        season=season_unique.name,\n",
    "        division='La Liga',\n",
    "        split=True\n",
    "    )['shots']\n",
    "\n",
    "    for match_of_season_id in season_unique.matches_id_list:\n",
    "        score_match_obj = match_score_from_matches_df(match_of_season_id, season_unique.matches_df)\n",
    "        # score_match_obj.inform_user()\n",
    "        \n",
    "        found_correct_score = confirm_match_score_from_even_df(score_match_obj, shots_season_df)\n",
    "        if found_correct_score is False:\n",
    "            problematic_match_scores += 1\n",
    "            score_match_obj.inform_user()\n",
    "    print(f'Total problematic scores in season: {problematic_match_scores}')\n"
   ]
  },
  {
   "attachments": {},
   "cell_type": "markdown",
   "metadata": {},
   "source": [
    "# Collecting events data"
   ]
  },
  {
   "attachments": {},
   "cell_type": "markdown",
   "metadata": {},
   "source": [
    "# Exploring first season shots"
   ]
  },
  {
   "cell_type": "code",
   "execution_count": null,
   "metadata": {},
   "outputs": [],
   "source": [
    "first_season_shots = sb.competition_events(\n",
    "    country='Spain',\n",
    "    season='2004/2005',\n",
    "    division='La Liga',\n",
    "    split=True\n",
    ")['shots']"
   ]
  },
  {
   "cell_type": "code",
   "execution_count": 10,
   "metadata": {},
   "outputs": [
    {
     "data": {
      "text/plain": [
       "Index(['id', 'index', 'period', 'timestamp', 'minute', 'second', 'type',\n",
       "       'possession', 'possession_team', 'play_pattern', 'team', 'player',\n",
       "       'position', 'location', 'duration', 'related_events', 'match_id',\n",
       "       'shot_statsbomb_xg', 'shot_end_location', 'shot_key_pass_id',\n",
       "       'shot_first_time', 'shot_outcome', 'shot_type', 'shot_body_part',\n",
       "       'shot_technique', 'shot_freeze_frame', 'possession_team_id',\n",
       "       'player_id', 'shot_one_on_one', 'under_pressure', 'shot_aerial_won',\n",
       "       'out', 'shot_saved_to_post', 'shot_deflected', 'shot_redirect'],\n",
       "      dtype='object')"
      ]
     },
     "execution_count": 10,
     "metadata": {},
     "output_type": "execute_result"
    }
   ],
   "source": [
    "first_season_shots.columns"
   ]
  },
  {
   "cell_type": "code",
   "execution_count": 16,
   "metadata": {},
   "outputs": [],
   "source": [
    "match_ids_first = first_season_shots.match_id.unique().tolist()"
   ]
  },
  {
   "cell_type": "code",
   "execution_count": 64,
   "metadata": {},
   "outputs": [
    {
     "data": {
      "text/plain": [
       "available    7\n",
       "Name: match_status, dtype: int64"
      ]
     },
     "execution_count": 64,
     "metadata": {},
     "output_type": "execute_result"
    }
   ],
   "source": [
    "# Get the match result from matches df\n",
    "seasons_messi[-1].matches_df.match_status.value_counts()"
   ]
  },
  {
   "cell_type": "code",
   "execution_count": 71,
   "metadata": {},
   "outputs": [
    {
     "data": {
      "text/plain": [
       "Off T            65\n",
       "Saved            36\n",
       "Blocked          32\n",
       "Goal             18\n",
       "Post              3\n",
       "Wayward           3\n",
       "Saved to Post     1\n",
       "Name: shot_outcome, dtype: int64"
      ]
     },
     "execution_count": 71,
     "metadata": {},
     "output_type": "execute_result"
    }
   ],
   "source": [
    "first_season_shots.shot_outcome.value_counts()"
   ]
  },
  {
   "cell_type": "code",
   "execution_count": 9,
   "metadata": {},
   "outputs": [
    {
     "data": {
      "text/plain": [
       "player\n",
       "Samuel Eto''o Fils                      22\n",
       "Ronaldo de Assis Moreira                22\n",
       "Anderson Luís de Souza                  17\n",
       "Xavier Hernández Creus                  10\n",
       "Rafael Márquez Álvarez                  10\n",
       "Andrés Iniesta Luján                    10\n",
       "Giovanni van Bronckhorst                 6\n",
       "Lionel Andrés Messi Cuccittini           6\n",
       "Mark Dennis González Hoffmann            5\n",
       "Raúl García Escudero                     4\n",
       "Juliano Haus Belletti                    4\n",
       "Ludovic Giuly                            4\n",
       "Antonio Pacheco D\"Agosti                 4\n",
       "Mauricio Roberto Pochettino Trossero     2\n",
       "John Aloisi                              2\n",
       "Vladimir Manchev                         2\n",
       "Iván De la Peña López                    2\n",
       "Maximiliano Gastón López                 2\n",
       "Mario Gutiérrez Cotelo                   2\n",
       "Ferrán Corominas Telechea                2\n",
       "Henrik Larsson                           1\n",
       "David López Moreno                       1\n",
       "Antonio Álvarez Pérez                    1\n",
       "Sylvio Mendes Campos Junior              1\n",
       "Diego Camacho Quesada                    1\n",
       "Sérgio Paulo Barbosa Valente             1\n",
       "Thiago Motta                             1\n",
       "Victoriano Rivas Álvaro                  1\n",
       "Raúl Tamudo Montero                      1\n",
       "Miguel Ángel Lozano Ayala                1\n",
       "Felix Dja Ettien Yohou                   1\n",
       "Oleguer Presas Renom                     1\n",
       "Maximiliano Rubén Rodríguez              1\n",
       "Francisco Puñal Martínez                 1\n",
       "Gabriel Fernández Arenas                 1\n",
       "Gaspar Gálvez Burgos                     1\n",
       "José Alejandro Suárez Martín             1\n",
       "Jorge Gonzalez Diaz                      1\n",
       "Jofre González Mateu                     1\n",
       "Óscar Serrano Rodriguez                  1\n",
       "Name: id, dtype: int64"
      ]
     },
     "execution_count": 9,
     "metadata": {},
     "output_type": "execute_result"
    }
   ],
   "source": [
    "first_season_shots.groupby('player')['id'].count().sort_values(ascending=False)"
   ]
  },
  {
   "cell_type": "code",
   "execution_count": 35,
   "metadata": {},
   "outputs": [
    {
     "data": {
      "text/plain": [
       "shot_outcome\n",
       "Off T            65\n",
       "Saved            36\n",
       "Blocked          32\n",
       "Goal             18\n",
       "Post              3\n",
       "Wayward           3\n",
       "Saved to Post     1\n",
       "Name: id, dtype: int64"
      ]
     },
     "execution_count": 35,
     "metadata": {},
     "output_type": "execute_result"
    }
   ],
   "source": [
    "first_season_shots.groupby('shot_outcome')['id'].count().sort_values(ascending=False)"
   ]
  },
  {
   "attachments": {},
   "cell_type": "markdown",
   "metadata": {},
   "source": [
    "# Events example"
   ]
  },
  {
   "cell_type": "code",
   "execution_count": 1,
   "metadata": {},
   "outputs": [
    {
     "ename": "NameError",
     "evalue": "name 'sb' is not defined",
     "output_type": "error",
     "traceback": [
      "\u001b[1;31m---------------------------------------------------------------------------\u001b[0m",
      "\u001b[1;31mNameError\u001b[0m                                 Traceback (most recent call last)",
      "\u001b[1;32mC:\\Users\\B063~1\\AppData\\Local\\Temp/ipykernel_17104/2634159253.py\u001b[0m in \u001b[0;36m<module>\u001b[1;34m\u001b[0m\n\u001b[1;32m----> 1\u001b[1;33m \u001b[0mevents_example_df\u001b[0m \u001b[1;33m=\u001b[0m \u001b[0msb\u001b[0m\u001b[1;33m.\u001b[0m\u001b[0mevents\u001b[0m\u001b[1;33m(\u001b[0m\u001b[0mmatch_id\u001b[0m\u001b[1;33m=\u001b[0m\u001b[1;36m7551\u001b[0m\u001b[1;33m)\u001b[0m\u001b[1;33m\u001b[0m\u001b[1;33m\u001b[0m\u001b[0m\n\u001b[0m\u001b[0;32m      2\u001b[0m \u001b[0mevents_example_df\u001b[0m\u001b[1;33m.\u001b[0m\u001b[0mhead\u001b[0m\u001b[1;33m(\u001b[0m\u001b[1;33m)\u001b[0m\u001b[1;33m\u001b[0m\u001b[1;33m\u001b[0m\u001b[0m\n",
      "\u001b[1;31mNameError\u001b[0m: name 'sb' is not defined"
     ]
    }
   ],
   "source": [
    "events_example_df = sb.events(match_id=7551)\n",
    "events_example_df.head()"
   ]
  },
  {
   "cell_type": "code",
   "execution_count": 16,
   "metadata": {},
   "outputs": [
    {
     "data": {
      "text/plain": [
       "Index(['50_50', 'ball_receipt_outcome', 'ball_recovery_recovery_failure',\n",
       "       'block_deflection', 'block_offensive', 'carry_end_location',\n",
       "       'clearance_aerial_won', 'counterpress', 'dribble_nutmeg',\n",
       "       'dribble_outcome', 'duel_outcome', 'duel_type', 'duration',\n",
       "       'foul_committed_advantage', 'foul_committed_card',\n",
       "       'foul_committed_offensive', 'foul_committed_type', 'foul_won_advantage',\n",
       "       'foul_won_defensive', 'goalkeeper_body_part', 'goalkeeper_end_location',\n",
       "       'goalkeeper_outcome', 'goalkeeper_position', 'goalkeeper_technique',\n",
       "       'goalkeeper_type', 'id', 'index', 'injury_stoppage_in_chain',\n",
       "       'interception_outcome', 'location', 'match_id', 'minute',\n",
       "       'miscontrol_aerial_won', 'pass_aerial_won', 'pass_angle',\n",
       "       'pass_assisted_shot_id', 'pass_backheel', 'pass_body_part',\n",
       "       'pass_cross', 'pass_cut_back', 'pass_deflected', 'pass_end_location',\n",
       "       'pass_goal_assist', 'pass_height', 'pass_length', 'pass_outcome',\n",
       "       'pass_recipient', 'pass_shot_assist', 'pass_switch', 'pass_technique',\n",
       "       'pass_through_ball', 'pass_type', 'period', 'play_pattern', 'player',\n",
       "       'player_id', 'position', 'possession', 'possession_team',\n",
       "       'possession_team_id', 'related_events', 'second', 'shot_aerial_won',\n",
       "       'shot_body_part', 'shot_deflected', 'shot_end_location',\n",
       "       'shot_first_time', 'shot_freeze_frame', 'shot_key_pass_id',\n",
       "       'shot_one_on_one', 'shot_outcome', 'shot_statsbomb_xg',\n",
       "       'shot_technique', 'shot_type', 'substitution_outcome',\n",
       "       'substitution_replacement', 'tactics', 'team', 'timestamp', 'type',\n",
       "       'under_pressure'],\n",
       "      dtype='object')"
      ]
     },
     "execution_count": 16,
     "metadata": {},
     "output_type": "execute_result"
    }
   ],
   "source": [
    "events_example_df.columns"
   ]
  },
  {
   "cell_type": "code",
   "execution_count": 29,
   "metadata": {},
   "outputs": [
    {
     "data": {
      "text/plain": [
       "array([nan, 'Blocked', 'Saved', 'Goal', 'Off T', 'Wayward', 'Post'],\n",
       "      dtype=object)"
      ]
     },
     "execution_count": 29,
     "metadata": {},
     "output_type": "execute_result"
    }
   ],
   "source": [
    "events_example_df.shot_outcome.unique()"
   ]
  }
 ],
 "metadata": {
  "kernelspec": {
   "display_name": "Python 3.9.4 64-bit",
   "language": "python",
   "name": "python3"
  },
  "language_info": {
   "codemirror_mode": {
    "name": "ipython",
    "version": 3
   },
   "file_extension": ".py",
   "mimetype": "text/x-python",
   "name": "python",
   "nbconvert_exporter": "python",
   "pygments_lexer": "ipython3",
   "version": "3.9.4"
  },
  "orig_nbformat": 4,
  "vscode": {
   "interpreter": {
    "hash": "5ff2af1c2d5f89d006a2aaf263ddfb2813a8e71da138a62573a7e2a3fe27a2c9"
   }
  }
 },
 "nbformat": 4,
 "nbformat_minor": 2
}
