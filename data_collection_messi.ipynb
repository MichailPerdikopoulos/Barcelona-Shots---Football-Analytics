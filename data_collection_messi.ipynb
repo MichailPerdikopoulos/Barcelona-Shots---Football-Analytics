{
 "cells": [
  {
   "attachments": {},
   "cell_type": "markdown",
   "metadata": {},
   "source": [
    "# Importing libraries"
   ]
  },
  {
   "cell_type": "code",
   "execution_count": 1,
   "metadata": {},
   "outputs": [],
   "source": [
    "from statsbombpy import sb #pip install statsbombpy\n",
    "import pandas as pd\n",
    "import numpy as np\n",
    "import seaborn as sns\n",
    "import matplotlib.pyplot as plt\n",
    "import random\n",
    "\n",
    "import warnings\n",
    "warnings.filterwarnings('ignore') # temporary"
   ]
  },
  {
   "attachments": {},
   "cell_type": "markdown",
   "metadata": {},
   "source": [
    "# Exploring competions"
   ]
  },
  {
   "cell_type": "code",
   "execution_count": 2,
   "metadata": {},
   "outputs": [
    {
     "data": {
      "text/html": [
       "<div>\n",
       "<style scoped>\n",
       "    .dataframe tbody tr th:only-of-type {\n",
       "        vertical-align: middle;\n",
       "    }\n",
       "\n",
       "    .dataframe tbody tr th {\n",
       "        vertical-align: top;\n",
       "    }\n",
       "\n",
       "    .dataframe thead th {\n",
       "        text-align: right;\n",
       "    }\n",
       "</style>\n",
       "<table border=\"1\" class=\"dataframe\">\n",
       "  <thead>\n",
       "    <tr style=\"text-align: right;\">\n",
       "      <th></th>\n",
       "      <th>competition_id</th>\n",
       "      <th>season_id</th>\n",
       "      <th>country_name</th>\n",
       "      <th>competition_name</th>\n",
       "      <th>competition_gender</th>\n",
       "      <th>competition_youth</th>\n",
       "      <th>competition_international</th>\n",
       "      <th>season_name</th>\n",
       "      <th>match_updated</th>\n",
       "      <th>match_updated_360</th>\n",
       "      <th>match_available_360</th>\n",
       "      <th>match_available</th>\n",
       "    </tr>\n",
       "  </thead>\n",
       "  <tbody>\n",
       "    <tr>\n",
       "      <th>0</th>\n",
       "      <td>16</td>\n",
       "      <td>4</td>\n",
       "      <td>Europe</td>\n",
       "      <td>Champions League</td>\n",
       "      <td>male</td>\n",
       "      <td>False</td>\n",
       "      <td>False</td>\n",
       "      <td>2018/2019</td>\n",
       "      <td>2022-12-01T11:42:34.874323</td>\n",
       "      <td>2021-06-13T16:17:31.694</td>\n",
       "      <td>None</td>\n",
       "      <td>2022-12-01T11:42:34.874323</td>\n",
       "    </tr>\n",
       "    <tr>\n",
       "      <th>1</th>\n",
       "      <td>16</td>\n",
       "      <td>1</td>\n",
       "      <td>Europe</td>\n",
       "      <td>Champions League</td>\n",
       "      <td>male</td>\n",
       "      <td>False</td>\n",
       "      <td>False</td>\n",
       "      <td>2017/2018</td>\n",
       "      <td>2021-08-27T11:26:39.802832</td>\n",
       "      <td>2021-06-13T16:17:31.694</td>\n",
       "      <td>None</td>\n",
       "      <td>2021-01-23T21:55:30.425330</td>\n",
       "    </tr>\n",
       "    <tr>\n",
       "      <th>2</th>\n",
       "      <td>16</td>\n",
       "      <td>2</td>\n",
       "      <td>Europe</td>\n",
       "      <td>Champions League</td>\n",
       "      <td>male</td>\n",
       "      <td>False</td>\n",
       "      <td>False</td>\n",
       "      <td>2016/2017</td>\n",
       "      <td>2021-08-27T11:26:39.802832</td>\n",
       "      <td>2021-06-13T16:17:31.694</td>\n",
       "      <td>None</td>\n",
       "      <td>2020-07-29T05:00</td>\n",
       "    </tr>\n",
       "    <tr>\n",
       "      <th>3</th>\n",
       "      <td>16</td>\n",
       "      <td>27</td>\n",
       "      <td>Europe</td>\n",
       "      <td>Champions League</td>\n",
       "      <td>male</td>\n",
       "      <td>False</td>\n",
       "      <td>False</td>\n",
       "      <td>2015/2016</td>\n",
       "      <td>2021-08-27T11:26:39.802832</td>\n",
       "      <td>2021-06-13T16:17:31.694</td>\n",
       "      <td>None</td>\n",
       "      <td>2020-07-29T05:00</td>\n",
       "    </tr>\n",
       "    <tr>\n",
       "      <th>4</th>\n",
       "      <td>16</td>\n",
       "      <td>26</td>\n",
       "      <td>Europe</td>\n",
       "      <td>Champions League</td>\n",
       "      <td>male</td>\n",
       "      <td>False</td>\n",
       "      <td>False</td>\n",
       "      <td>2014/2015</td>\n",
       "      <td>2021-08-27T11:26:39.802832</td>\n",
       "      <td>2021-06-13T16:17:31.694</td>\n",
       "      <td>None</td>\n",
       "      <td>2020-07-29T05:00</td>\n",
       "    </tr>\n",
       "  </tbody>\n",
       "</table>\n",
       "</div>"
      ],
      "text/plain": [
       "   competition_id  season_id country_name  competition_name  \\\n",
       "0              16          4       Europe  Champions League   \n",
       "1              16          1       Europe  Champions League   \n",
       "2              16          2       Europe  Champions League   \n",
       "3              16         27       Europe  Champions League   \n",
       "4              16         26       Europe  Champions League   \n",
       "\n",
       "  competition_gender  competition_youth  competition_international  \\\n",
       "0               male              False                      False   \n",
       "1               male              False                      False   \n",
       "2               male              False                      False   \n",
       "3               male              False                      False   \n",
       "4               male              False                      False   \n",
       "\n",
       "  season_name               match_updated        match_updated_360  \\\n",
       "0   2018/2019  2022-12-01T11:42:34.874323  2021-06-13T16:17:31.694   \n",
       "1   2017/2018  2021-08-27T11:26:39.802832  2021-06-13T16:17:31.694   \n",
       "2   2016/2017  2021-08-27T11:26:39.802832  2021-06-13T16:17:31.694   \n",
       "3   2015/2016  2021-08-27T11:26:39.802832  2021-06-13T16:17:31.694   \n",
       "4   2014/2015  2021-08-27T11:26:39.802832  2021-06-13T16:17:31.694   \n",
       "\n",
       "  match_available_360             match_available  \n",
       "0                None  2022-12-01T11:42:34.874323  \n",
       "1                None  2021-01-23T21:55:30.425330  \n",
       "2                None            2020-07-29T05:00  \n",
       "3                None            2020-07-29T05:00  \n",
       "4                None            2020-07-29T05:00  "
      ]
     },
     "execution_count": 2,
     "metadata": {},
     "output_type": "execute_result"
    }
   ],
   "source": [
    "competitions_df = sb.competitions()\n",
    "\n",
    "competitions_df.head()"
   ]
  },
  {
   "cell_type": "code",
   "execution_count": 3,
   "metadata": {},
   "outputs": [
    {
     "name": "stdout",
     "output_type": "stream",
     "text": [
      "Competions dataframe columns:\n",
      "['competition_id', 'season_id', 'country_name', 'competition_name', 'competition_gender', 'competition_youth', 'competition_international', 'season_name', 'match_updated', 'match_updated_360', 'match_available_360', 'match_available']\n",
      "Competitions names:\n",
      "['Champions League' \"FA Women's Super League\" 'FIFA World Cup'\n",
      " 'Indian Super league' 'La Liga' 'NWSL' 'Premier League' 'UEFA Euro'\n",
      " \"UEFA Women's Euro\" \"Women's World Cup\"]\n",
      "\n",
      "La Liga competion_id is 11\n"
     ]
    }
   ],
   "source": [
    "print('Competions dataframe columns:')\n",
    "print(competitions_df.columns.tolist())\n",
    "\n",
    "print('Competitions names:')\n",
    "print(competitions_df.competition_name.unique())\n",
    "\n",
    "# The focus of this project is La Liga, so we need the competion id\n",
    "la_liga_name = 'La Liga'\n",
    "la_liga_id = competitions_df.query(f'competition_name == \"{la_liga_name}\"')['competition_id'].iloc[0]\n",
    "print(f'\\nLa Liga competion_id is {la_liga_id}')\n"
   ]
  },
  {
   "attachments": {},
   "cell_type": "markdown",
   "metadata": {},
   "source": [
    "# La Liga seasons exploring"
   ]
  },
  {
   "cell_type": "code",
   "execution_count": 4,
   "metadata": {},
   "outputs": [
    {
     "name": "stdout",
     "output_type": "stream",
     "text": [
      "\n",
      "La Liga competion_id is: 11\n",
      "Total seasons of La Liga covered from StatsBomb API: 17\n"
     ]
    }
   ],
   "source": [
    "# We need the season_id for each la liga season\n",
    "print(f'\\nLa Liga competion_id is: {la_liga_id}')\n",
    "\n",
    "seasons_id_list = []\n",
    "\n",
    "seasons_id_list = competitions_df.query(f'competition_id == {la_liga_id}').season_id.tolist()\n",
    "\n",
    "print(f'Total seasons of La Liga covered from StatsBomb API: {len(seasons_id_list)}')"
   ]
  },
  {
   "attachments": {},
   "cell_type": "markdown",
   "metadata": {},
   "source": [
    "# Collect match data for all sesons"
   ]
  },
  {
   "cell_type": "code",
   "execution_count": 5,
   "metadata": {},
   "outputs": [
    {
     "name": "stdout",
     "output_type": "stream",
     "text": [
      "['match_id', 'match_date', 'kick_off', 'competition', 'season', 'home_team', 'away_team', 'home_score', 'away_score', 'match_status', 'match_status_360', 'last_updated', 'last_updated_360', 'match_week', 'competition_stage', 'stadium', 'referee', 'home_managers', 'away_managers', 'data_version', 'shot_fidelity_version', 'xy_fidelity_version']\n",
      "2014/2015    38\n",
      "2011/2012    37\n",
      "2017/2018    36\n",
      "2020/2021    35\n",
      "2009/2010    35\n",
      "2018/2019    34\n",
      "2016/2017    34\n",
      "2010/2011    33\n",
      "2015/2016    33\n",
      "2019/2020    33\n",
      "2012/2013    32\n",
      "2013/2014    31\n",
      "2008/2009    31\n",
      "2007/2008    28\n",
      "2006/2007    26\n",
      "2005/2006    17\n",
      "2004/2005     7\n",
      "Name: season, dtype: int64\n"
     ]
    }
   ],
   "source": [
    "# For how many matches we have information about?\n",
    "class Season_La_liga():\n",
    "    def __init__(self, id, name, matches_df):\n",
    "        self.id = id\n",
    "        self.name = name\n",
    "        self.matches_df = matches_df\n",
    "\n",
    "        self.matches_id_list = self.matches_df.match_id.tolist()\n",
    "\n",
    "seasons_messi = []\n",
    "\n",
    "for season in seasons_id_list:\n",
    "    matches_info_df = sb.matches(competition_id=la_liga_id, season_id=season)\n",
    "    \n",
    "    total_season_matches = matches_info_df.shape[0]\n",
    "    season_name = matches_info_df.season.iloc[0]\n",
    "\n",
    "    seasons_messi.append(Season_La_liga(season, season_name, matches_info_df))\n",
    "\n",
    "\n",
    "# Exploring avaliable columns\n",
    "print(seasons_messi[0].matches_df.columns.tolist())\n",
    "\n",
    "match_columns_use = ['match_id','match_date', 'season','home_team', 'away_team', 'home_score', 'away_score', 'match_week']\n",
    "\n",
    "matches_complete_df = pd.DataFrame(columns=match_columns_use)\n",
    "\n",
    "for messi_season in seasons_messi:\n",
    "    matches_complete_df = matches_complete_df.append(messi_season.matches_df.loc[:, match_columns_use])\n",
    "\n",
    "print(matches_complete_df.season.value_counts())"
   ]
  },
  {
   "attachments": {},
   "cell_type": "markdown",
   "metadata": {},
   "source": [
    "# Transforming the match dataframe"
   ]
  },
  {
   "cell_type": "code",
   "execution_count": 6,
   "metadata": {},
   "outputs": [
    {
     "data": {
      "text/html": [
       "<div>\n",
       "<style scoped>\n",
       "    .dataframe tbody tr th:only-of-type {\n",
       "        vertical-align: middle;\n",
       "    }\n",
       "\n",
       "    .dataframe tbody tr th {\n",
       "        vertical-align: top;\n",
       "    }\n",
       "\n",
       "    .dataframe thead th {\n",
       "        text-align: right;\n",
       "    }\n",
       "</style>\n",
       "<table border=\"1\" class=\"dataframe\">\n",
       "  <thead>\n",
       "    <tr style=\"text-align: right;\">\n",
       "      <th></th>\n",
       "      <th>match_id</th>\n",
       "      <th>match_date</th>\n",
       "      <th>season</th>\n",
       "      <th>home_team</th>\n",
       "      <th>away_team</th>\n",
       "      <th>home_score</th>\n",
       "      <th>away_score</th>\n",
       "      <th>match_week</th>\n",
       "    </tr>\n",
       "  </thead>\n",
       "  <tbody>\n",
       "    <tr>\n",
       "      <th>0</th>\n",
       "      <td>3773457</td>\n",
       "      <td>2021-05-16</td>\n",
       "      <td>2020/2021</td>\n",
       "      <td>Barcelona</td>\n",
       "      <td>Celta Vigo</td>\n",
       "      <td>1</td>\n",
       "      <td>2</td>\n",
       "      <td>37</td>\n",
       "    </tr>\n",
       "    <tr>\n",
       "      <th>1</th>\n",
       "      <td>3773631</td>\n",
       "      <td>2021-02-07</td>\n",
       "      <td>2020/2021</td>\n",
       "      <td>Real Betis</td>\n",
       "      <td>Barcelona</td>\n",
       "      <td>2</td>\n",
       "      <td>3</td>\n",
       "      <td>22</td>\n",
       "    </tr>\n",
       "    <tr>\n",
       "      <th>2</th>\n",
       "      <td>3773665</td>\n",
       "      <td>2021-03-06</td>\n",
       "      <td>2020/2021</td>\n",
       "      <td>Osasuna</td>\n",
       "      <td>Barcelona</td>\n",
       "      <td>0</td>\n",
       "      <td>2</td>\n",
       "      <td>26</td>\n",
       "    </tr>\n",
       "    <tr>\n",
       "      <th>3</th>\n",
       "      <td>3773497</td>\n",
       "      <td>2021-04-10</td>\n",
       "      <td>2020/2021</td>\n",
       "      <td>Real Madrid</td>\n",
       "      <td>Barcelona</td>\n",
       "      <td>2</td>\n",
       "      <td>1</td>\n",
       "      <td>30</td>\n",
       "    </tr>\n",
       "    <tr>\n",
       "      <th>4</th>\n",
       "      <td>3773660</td>\n",
       "      <td>2020-12-13</td>\n",
       "      <td>2020/2021</td>\n",
       "      <td>Barcelona</td>\n",
       "      <td>Levante</td>\n",
       "      <td>1</td>\n",
       "      <td>0</td>\n",
       "      <td>13</td>\n",
       "    </tr>\n",
       "  </tbody>\n",
       "</table>\n",
       "</div>"
      ],
      "text/plain": [
       "  match_id  match_date     season    home_team   away_team home_score  \\\n",
       "0  3773457  2021-05-16  2020/2021    Barcelona  Celta Vigo          1   \n",
       "1  3773631  2021-02-07  2020/2021   Real Betis   Barcelona          2   \n",
       "2  3773665  2021-03-06  2020/2021      Osasuna   Barcelona          0   \n",
       "3  3773497  2021-04-10  2020/2021  Real Madrid   Barcelona          2   \n",
       "4  3773660  2020-12-13  2020/2021    Barcelona     Levante          1   \n",
       "\n",
       "  away_score match_week  \n",
       "0          2         37  \n",
       "1          3         22  \n",
       "2          2         26  \n",
       "3          1         30  \n",
       "4          0         13  "
      ]
     },
     "execution_count": 6,
     "metadata": {},
     "output_type": "execute_result"
    }
   ],
   "source": [
    "matches_complete_df.head()"
   ]
  },
  {
   "cell_type": "code",
   "execution_count": 8,
   "metadata": {},
   "outputs": [],
   "source": [
    "def transform_match_dataframe(our_team_name, matches_df):\n",
    "    matches_df['home/away'] = np.where(matches_df['home_team'] == our_team_name, 'home', 'away')\n",
    "\n",
    "    matches_df['opponent'] = np.where(matches_df['home_team'] == our_team_name, matches_df['away_team'], matches_df['home_team'])\n",
    "\n",
    "    matches_df['goals_scored'] = np.where(matches_df['home_team'] == our_team_name, matches_df['home_score'], matches_df['away_score'])\n",
    "\n",
    "    matches_df['goals_conceded'] = np.where(matches_df['home_team'] == our_team_name, matches_df['away_score'], matches_df['home_score'])\n",
    "\n",
    "    result_conditions = [\n",
    "    (matches_df['goals_scored'] > matches_df['goals_conceded']),\n",
    "    (matches_df['goals_scored'] == matches_df['goals_conceded']),\n",
    "    (matches_df['goals_scored'] < matches_df['goals_conceded'])\n",
    "]\n",
    "\n",
    "    result_values = ['w', 'd', 'l']\n",
    "\n",
    "    matches_df['result'] = np.select(result_conditions, result_values)\n",
    "\n",
    "    matches_df['description'] = matches_df['home_team'] + ' - ' + matches_df['away_team'] + ' : ' + matches_df['home_score'].astype(str) + ' - ' \\\n",
    "                                + matches_df['away_score'].astype(str) + ' (' + matches_df['match_date'] + ')'\n",
    "\n",
    "    matches_df = matches_df.drop(['home_team', 'away_team', 'home_score', 'away_score'], axis=1)\n",
    "\n",
    "    matches_df = matches_df.sort_values(by=['match_date'])\n",
    "\n",
    "    # Datatypes of each column\n",
    "    matches_df.match_id = matches_df.match_id.astype('int64')\n",
    "    matches_df.match_date = matches_df.match_date.astype('datetime64')\n",
    "    matches_df.season = matches_df.season.astype('category')\n",
    "    matches_df.match_week = matches_df.match_week.astype('int32')\n",
    "    matches_df.goals_scored = matches_df.goals_scored.astype('int32')\n",
    "    matches_df.goals_conceded = matches_df.goals_conceded.astype('int32')\n",
    "    matches_df.result = matches_df.result.astype('category')\n",
    "\n",
    "    return matches_df\n",
    "\n",
    "matches_df = transform_match_dataframe('Barcelona', matches_complete_df.copy())\n",
    "\n",
    "# Export matches DataFrame\n",
    "matches_df.to_csv('all_matches_in_file.csv', index=False)"
   ]
  },
  {
   "attachments": {},
   "cell_type": "markdown",
   "metadata": {},
   "source": [
    "## Exploring match dataframe"
   ]
  },
  {
   "cell_type": "code",
   "execution_count": 9,
   "metadata": {},
   "outputs": [
    {
     "data": {
      "image/png": "[encoded data removed]",
      "text/plain": [
       "<Figure size 432x288 with 1 Axes>"
      ]
     },
     "metadata": {
      "needs_background": "light"
     },
     "output_type": "display_data"
    }
   ],
   "source": [
    "season_match_df = matches_df.groupby('season')[['match_id']].count().reset_index()\n",
    "\n",
    "ax = sns.barplot(data=season_match_df, x='season', y='match_id', color='steelblue')\n",
    "\n",
    "plt.xticks(rotation=90);\n",
    "plt.yticks([])\n",
    "ax.set_ylabel('Available matches per season')\n",
    "plt.title('Messi matches available in La Liga (2004/2005 to 2020/2021)')\n",
    "ax.bar_label(ax.containers[0]);"
   ]
  },
  {
   "cell_type": "code",
   "execution_count": 10,
   "metadata": {},
   "outputs": [
    {
     "data": {
      "image/png": "[encoded data removed]",
      "text/plain": [
       "<Figure size 432x288 with 1 Axes>"
      ]
     },
     "metadata": {
      "needs_background": "light"
     },
     "output_type": "display_data"
    }
   ],
   "source": [
    "home_away_matches_df = matches_df.groupby(['home/away', 'result'])['match_id'].count().reset_index()\n",
    "\n",
    "ax = sns.barplot(data=home_away_matches_df, x='home/away', y='match_id', hue='result', order=['home', 'away'], hue_order=['w', 'd', 'l'], palette=['green', 'blue', 'red'])\n",
    "ax.set_ylabel('Available matches')\n",
    "for i in range(3):\n",
    "    ax.bar_label(ax.containers[i]);\n"
   ]
  },
  {
   "attachments": {},
   "cell_type": "markdown",
   "metadata": {},
   "source": [
    "# Collecting all shot data from events data"
   ]
  },
  {
   "cell_type": "code",
   "execution_count": 12,
   "metadata": {},
   "outputs": [
    {
     "name": "stdout",
     "output_type": "stream",
     "text": [
      "['id', 'index', 'period', 'timestamp', 'minute', 'second', 'type', 'possession', 'possession_team', 'play_pattern', 'team', 'player', 'position', 'location', 'duration', 'related_events', 'match_id', 'shot_statsbomb_xg', 'shot_end_location', 'shot_key_pass_id', 'shot_first_time', 'shot_outcome', 'shot_type', 'shot_body_part', 'shot_technique', 'shot_freeze_frame', 'possession_team_id', 'player_id', 'shot_one_on_one', 'under_pressure', 'shot_aerial_won', 'out', 'shot_saved_to_post', 'shot_deflected', 'shot_redirect']\n",
      "Handling season: 2020/2021 ...\n",
      "Handling season: 2019/2020 ...\n",
      "Handling season: 2018/2019 ...\n",
      "Handling season: 2017/2018 ...\n",
      "Handling season: 2016/2017 ...\n",
      "Handling season: 2015/2016 ...\n",
      "Handling season: 2014/2015 ...\n",
      "Handling season: 2013/2014 ...\n",
      "Handling season: 2012/2013 ...\n",
      "Handling season: 2011/2012 ...\n",
      "Handling season: 2010/2011 ...\n",
      "Handling season: 2009/2010 ...\n",
      "Handling season: 2008/2009 ...\n",
      "Handling season: 2007/2008 ...\n",
      "Handling season: 2006/2007 ...\n",
      "Handling season: 2005/2006 ...\n",
      "Handling season: 2004/2005 ...\n",
      "Size of all shots DataFrame : (12843, 15)\n"
     ]
    }
   ],
   "source": [
    "# Exploring avaliable columns\n",
    "first_season_shots = sb.competition_events(\n",
    "    country='Spain',\n",
    "    season='2004/2005',\n",
    "    division='La Liga',\n",
    "    split=True\n",
    ")['shots']\n",
    "\n",
    "print(first_season_shots.columns.tolist())\n",
    "\n",
    "def collect_shot_events(seasons_messi_collection):\n",
    "    shots_columns_to_use  = ['id', 'index', 'period', 'timestamp', 'minute', 'second', 'location', 'player'\n",
    "                            'possession_team', 'play_pattern', 'duration', 'match_id',\n",
    "                            'shot_statsbomb_xg', 'shot_outcome', 'shot_type', 'shot_body_part']\n",
    "\n",
    "    shots_complete_df = pd.DataFrame(columns=shots_columns_to_use)\n",
    "\n",
    "    for messi_season in seasons_messi_collection:\n",
    "        print(f'Handling season: {messi_season.name} ...')\n",
    "\n",
    "        season_shots_df = sb.competition_events(\n",
    "            country='Spain',\n",
    "            season=messi_season.name,\n",
    "            division='La Liga',\n",
    "            split=True\n",
    "        )['shots']\n",
    "\n",
    "        shots_complete_df = shots_complete_df.append(season_shots_df.loc[:, shots_columns_to_use])\n",
    "\n",
    "    # Export option\n",
    "    shots_complete_df.to_csv('all_shots_in_file.csv', index=False)\n",
    "\n",
    "    return shots_complete_df\n",
    "\n",
    "def import_shot_events():\n",
    "    shots_imported_df = pd.read_parquet('all_shots_in_file.csv')\n",
    "    return shots_imported_df\n",
    "\n",
    "def create_df_for_all_shot_events(import_from_file: bool = True):\n",
    "    if import_from_file is True:\n",
    "        return import_shot_events()\n",
    "    \n",
    "    return collect_shot_events(seasons_messi)\n",
    "\n",
    "\n",
    "shots_events_df = create_df_for_all_shot_events(False)\n",
    "\n",
    "print(f'Size of all shots DataFrame : {shots_events_df.shape}')"
   ]
  },
  {
   "cell_type": "markdown",
   "metadata": {},
   "source": [
    "# Transforming the shot events DataFrame"
   ]
  },
  {
   "cell_type": "code",
   "execution_count": 14,
   "metadata": {},
   "outputs": [
    {
     "name": "stdout",
     "output_type": "stream",
     "text": [
      "(12843, 15)\n",
      "Index(['id', 'index', 'period', 'timestamp', 'minute', 'second', 'location',\n",
      "       'possession_team', 'play_pattern', 'duration', 'match_id',\n",
      "       'shot_statsbomb_xg', 'shot_outcome', 'shot_type', 'shot_body_part'],\n",
      "      dtype='object')\n"
     ]
    },
    {
     "data": {
      "text/html": [
       "<div>\n",
       "<style scoped>\n",
       "    .dataframe tbody tr th:only-of-type {\n",
       "        vertical-align: middle;\n",
       "    }\n",
       "\n",
       "    .dataframe tbody tr th {\n",
       "        vertical-align: top;\n",
       "    }\n",
       "\n",
       "    .dataframe thead th {\n",
       "        text-align: right;\n",
       "    }\n",
       "</style>\n",
       "<table border=\"1\" class=\"dataframe\">\n",
       "  <thead>\n",
       "    <tr style=\"text-align: right;\">\n",
       "      <th></th>\n",
       "      <th>id</th>\n",
       "      <th>index</th>\n",
       "      <th>period</th>\n",
       "      <th>timestamp</th>\n",
       "      <th>minute</th>\n",
       "      <th>second</th>\n",
       "      <th>possession_team</th>\n",
       "      <th>play_pattern</th>\n",
       "      <th>duration</th>\n",
       "      <th>match_id</th>\n",
       "      <th>shot_statsbomb_xg</th>\n",
       "      <th>shot_outcome</th>\n",
       "      <th>shot_type</th>\n",
       "      <th>shot_body_part</th>\n",
       "      <th>start_x</th>\n",
       "      <th>start_y</th>\n",
       "    </tr>\n",
       "  </thead>\n",
       "  <tbody>\n",
       "    <tr>\n",
       "      <th>0</th>\n",
       "      <td>ccd059eb-08b6-4f1f-ae13-b1ed2e8f941a</td>\n",
       "      <td>348</td>\n",
       "      <td>1</td>\n",
       "      <td>00:06:55.168</td>\n",
       "      <td>6</td>\n",
       "      <td>55</td>\n",
       "      <td>Barcelona</td>\n",
       "      <td>From Corner</td>\n",
       "      <td>1.487756</td>\n",
       "      <td>3773457</td>\n",
       "      <td>0.050982</td>\n",
       "      <td>Off T</td>\n",
       "      <td>Open Play</td>\n",
       "      <td>Left Foot</td>\n",
       "      <td>98.9</td>\n",
       "      <td>42.8</td>\n",
       "    </tr>\n",
       "    <tr>\n",
       "      <th>1</th>\n",
       "      <td>f4d77b03-6602-4b80-adac-f840ed665451</td>\n",
       "      <td>467</td>\n",
       "      <td>1</td>\n",
       "      <td>00:09:11.887</td>\n",
       "      <td>9</td>\n",
       "      <td>11</td>\n",
       "      <td>Barcelona</td>\n",
       "      <td>Regular Play</td>\n",
       "      <td>0.093700</td>\n",
       "      <td>3773457</td>\n",
       "      <td>0.090202</td>\n",
       "      <td>Blocked</td>\n",
       "      <td>Open Play</td>\n",
       "      <td>Left Foot</td>\n",
       "      <td>105.5</td>\n",
       "      <td>42.9</td>\n",
       "    </tr>\n",
       "    <tr>\n",
       "      <th>2</th>\n",
       "      <td>c9e36179-edd5-429c-8004-77b40518c42d</td>\n",
       "      <td>497</td>\n",
       "      <td>1</td>\n",
       "      <td>00:09:32.039</td>\n",
       "      <td>9</td>\n",
       "      <td>32</td>\n",
       "      <td>Barcelona</td>\n",
       "      <td>Regular Play</td>\n",
       "      <td>0.111788</td>\n",
       "      <td>3773457</td>\n",
       "      <td>0.235028</td>\n",
       "      <td>Saved</td>\n",
       "      <td>Open Play</td>\n",
       "      <td>Left Foot</td>\n",
       "      <td>116.5</td>\n",
       "      <td>31.4</td>\n",
       "    </tr>\n",
       "    <tr>\n",
       "      <th>3</th>\n",
       "      <td>c2b6ca56-83f2-4fa0-a175-fada004130c5</td>\n",
       "      <td>734</td>\n",
       "      <td>1</td>\n",
       "      <td>00:14:22.075</td>\n",
       "      <td>14</td>\n",
       "      <td>22</td>\n",
       "      <td>Barcelona</td>\n",
       "      <td>From Counter</td>\n",
       "      <td>0.570289</td>\n",
       "      <td>3773457</td>\n",
       "      <td>0.059612</td>\n",
       "      <td>Saved</td>\n",
       "      <td>Open Play</td>\n",
       "      <td>Right Foot</td>\n",
       "      <td>108.0</td>\n",
       "      <td>54.9</td>\n",
       "    </tr>\n",
       "    <tr>\n",
       "      <th>4</th>\n",
       "      <td>c56f3aa1-26fe-4e10-a636-0865360df2bc</td>\n",
       "      <td>803</td>\n",
       "      <td>1</td>\n",
       "      <td>00:16:07.677</td>\n",
       "      <td>16</td>\n",
       "      <td>7</td>\n",
       "      <td>Barcelona</td>\n",
       "      <td>Regular Play</td>\n",
       "      <td>0.936565</td>\n",
       "      <td>3773457</td>\n",
       "      <td>0.054610</td>\n",
       "      <td>Off T</td>\n",
       "      <td>Open Play</td>\n",
       "      <td>Left Foot</td>\n",
       "      <td>95.2</td>\n",
       "      <td>41.5</td>\n",
       "    </tr>\n",
       "  </tbody>\n",
       "</table>\n",
       "</div>"
      ],
      "text/plain": [
       "                                     id index period     timestamp minute  \\\n",
       "0  ccd059eb-08b6-4f1f-ae13-b1ed2e8f941a   348      1  00:06:55.168      6   \n",
       "1  f4d77b03-6602-4b80-adac-f840ed665451   467      1  00:09:11.887      9   \n",
       "2  c9e36179-edd5-429c-8004-77b40518c42d   497      1  00:09:32.039      9   \n",
       "3  c2b6ca56-83f2-4fa0-a175-fada004130c5   734      1  00:14:22.075     14   \n",
       "4  c56f3aa1-26fe-4e10-a636-0865360df2bc   803      1  00:16:07.677     16   \n",
       "\n",
       "  second possession_team  play_pattern  duration match_id  shot_statsbomb_xg  \\\n",
       "0     55       Barcelona   From Corner  1.487756  3773457           0.050982   \n",
       "1     11       Barcelona  Regular Play  0.093700  3773457           0.090202   \n",
       "2     32       Barcelona  Regular Play  0.111788  3773457           0.235028   \n",
       "3     22       Barcelona  From Counter  0.570289  3773457           0.059612   \n",
       "4      7       Barcelona  Regular Play  0.936565  3773457           0.054610   \n",
       "\n",
       "  shot_outcome  shot_type shot_body_part  start_x  start_y  \n",
       "0        Off T  Open Play      Left Foot     98.9     42.8  \n",
       "1      Blocked  Open Play      Left Foot    105.5     42.9  \n",
       "2        Saved  Open Play      Left Foot    116.5     31.4  \n",
       "3        Saved  Open Play     Right Foot    108.0     54.9  \n",
       "4        Off T  Open Play      Left Foot     95.2     41.5  "
      ]
     },
     "execution_count": 14,
     "metadata": {},
     "output_type": "execute_result"
    }
   ],
   "source": [
    "shots_transformed_df = shots_events_df.copy()\n",
    "\n",
    "print(shots_transformed_df.shape)\n",
    "\n",
    "print(shots_transformed_df.columns)\n",
    "\n",
    "shots_transformed_df['start_x'] = shots_transformed_df.location.str[0]\n",
    "shots_transformed_df['start_y'] = shots_transformed_df.location.str[1]\n",
    "\n",
    "shots_transformed_df = shots_transformed_df.drop(['location'], axis=1)\n",
    "\n",
    "shots_transformed_df.head()"
   ]
  },
  {
   "cell_type": "code",
   "execution_count": 19,
   "metadata": {},
   "outputs": [
    {
     "data": {
      "image/png": "[encoded data removed]",
      "text/plain": [
       "<Figure size 576x288 with 1 Axes>"
      ]
     },
     "metadata": {},
     "output_type": "display_data"
    }
   ],
   "source": [
    "# Explore one match\n",
    "matches_list = matches_df.match_id.unique().tolist()\n",
    "ex_match_id = random.choice(matches_list)\n",
    "\n",
    "match_shots_df = shots_transformed_df.query(f'match_id == {ex_match_id} and possession_team == \"Barcelona\"')\n",
    "\n",
    "from mplsoccer.pitch import Pitch, VerticalPitch\n",
    "\n",
    "# pitch = Pitch(pitch_type='statsbomb', half=True)\n",
    "pitch = VerticalPitch(pitch_type='statsbomb', half=True)\n",
    "fig,ax = pitch.draw(figsize=(8, 4))\n",
    "fig.set_facecolor('lightgreen')\n",
    "\n",
    "final_score = matches_df.query(f'match_id == {ex_match_id}')['description'].iloc[0]\n",
    "\n",
    "plt.title(final_score)\n",
    "# sns.scatterplot(data=match_shots_df, x='start_x', y='start_y', hue='shot_outcome');\n",
    "sns.scatterplot(data=match_shots_df, x='start_y', y='start_x', hue='shot_outcome', size='shot_statsbomb_xg');\n"
   ]
  },
  {
   "cell_type": "code",
   "execution_count": 93,
   "metadata": {},
   "outputs": [
    {
     "name": "stdout",
     "output_type": "stream",
     "text": [
      "[69237, 16079, 68348, 267039, 68325]\n"
     ]
    },
    {
     "data": {
      "image/png": "[encoded data removed]",
      "text/plain": [
       "<Figure size 576x288 with 1 Axes>"
      ]
     },
     "metadata": {},
     "output_type": "display_data"
    }
   ],
   "source": [
    "# from matplotlib import cm\n",
    "\n",
    "# Get shots from multiple matches\n",
    "number_of_matches = 5\n",
    "\n",
    "matches_id_collection = random.sample(matches_list, number_of_matches)\n",
    "print(matches_id_collection)\n",
    "\n",
    "match_shots_df = shots_transformed_df.query(f'match_id == {matches_id_collection} and possession_team == \"Barcelona\"')\n",
    "\n",
    "pitch = VerticalPitch(pitch_type='statsbomb', half=True, line_zorder=2, line_color='black')\n",
    "fig,ax = pitch.draw(figsize=(8, 4))\n",
    "\n",
    "kde = pitch.kdeplot(match_shots_df.start_x, match_shots_df.start_y, ax=ax, fill=True,cmap='Reds', alpha=1, levels=10)"
   ]
  }
 ],
 "metadata": {
  "kernelspec": {
   "display_name": "Python 3.9.4 64-bit",
   "language": "python",
   "name": "python3"
  },
  "language_info": {
   "codemirror_mode": {
    "name": "ipython",
    "version": 3
   },
   "file_extension": ".py",
   "mimetype": "text/x-python",
   "name": "python",
   "nbconvert_exporter": "python",
   "pygments_lexer": "ipython3",
   "version": "3.9.4"
  },
  "orig_nbformat": 4,
  "vscode": {
   "interpreter": {
    "hash": "5ff2af1c2d5f89d006a2aaf263ddfb2813a8e71da138a62573a7e2a3fe27a2c9"
   }
  }
 },
 "nbformat": 4,
 "nbformat_minor": 2
}
